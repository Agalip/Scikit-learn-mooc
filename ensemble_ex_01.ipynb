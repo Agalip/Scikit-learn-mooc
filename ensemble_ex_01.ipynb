{
 "cells": [
  {
   "cell_type": "markdown",
   "id": "601249b2",
   "metadata": {},
   "source": [
    "# 📝 Exercise M6.01\n",
    "\n",
    "The aim of this notebook is to investigate if we can tune the hyperparameters\n",
    "of a bagging regressor and evaluate the gain obtained.\n",
    "\n",
    "We will load the California housing dataset and split it into a training and\n",
    "a testing set."
   ]
  },
  {
   "cell_type": "code",
   "execution_count": 1,
   "id": "fea0679a",
   "metadata": {},
   "outputs": [],
   "source": [
    "from sklearn.datasets import fetch_california_housing\n",
    "from sklearn.model_selection import train_test_split\n",
    "\n",
    "data, target = fetch_california_housing(as_frame=True, return_X_y=True)\n",
    "target *= 100  # rescale the target in k$\n",
    "data_train, data_test, target_train, target_test = train_test_split(\n",
    "    data, target, random_state=0, test_size=0.5)"
   ]
  },
  {
   "cell_type": "markdown",
   "id": "5e528cf7",
   "metadata": {},
   "source": [
    "<div class=\"admonition note alert alert-info\">\n",
    "<p class=\"first admonition-title\" style=\"font-weight: bold;\">Note</p>\n",
    "<p class=\"last\">If you want a deeper overview regarding this dataset, you can refer to the\n",
    "Appendix - Datasets description section at the end of this MOOC.</p>\n",
    "</div>"
   ]
  },
  {
   "cell_type": "markdown",
   "id": "bf6db895",
   "metadata": {},
   "source": [
    "Create a `BaggingRegressor` and provide a `DecisionTreeRegressor`\n",
    "to its parameter `base_estimator`. Train the regressor and evaluate its\n",
    "generalization performance on the testing set using the mean absolute error."
   ]
  },
  {
   "cell_type": "code",
   "execution_count": 4,
   "id": "0d6797d0",
   "metadata": {},
   "outputs": [
    {
     "name": "stdout",
     "output_type": "stream",
     "text": [
      "Basic mean absolute error of the bagging regressor:\n",
      "35.68 k$\n"
     ]
    }
   ],
   "source": [
    "# Write your code here.\n",
    "from sklearn.ensemble import BaggingRegressor\n",
    "from sklearn.tree import DecisionTreeRegressor\n",
    "from sklearn.metrics import mean_absolute_error\n",
    "\n",
    "tree = DecisionTreeRegressor()\n",
    "bagging = BaggingRegressor(base_estimator=tree, n_estimators=20, n_jobs=2)\n",
    "\n",
    "bagging.fit(data_train, target_train)\n",
    "predicted = bagging.predict(data_test)\n",
    "\n",
    "print(f\"Basic mean absolute error of the bagging regressor:\\n\"\n",
    "      f\"{mean_absolute_error(target_test, predicted):.2f} k$\")"
   ]
  },
  {
   "cell_type": "markdown",
   "id": "f7b05675",
   "metadata": {},
   "source": [
    "Now, create a `RandomizedSearchCV` instance using the previous model and\n",
    "tune the important parameters of the bagging regressor. Find the best\n",
    "parameters  and check if you are able to find a set of parameters that\n",
    "improve the default regressor still using the mean absolute error as a\n",
    "metric.\n",
    "\n",
    "<div class=\"admonition tip alert alert-warning\">\n",
    "<p class=\"first admonition-title\" style=\"font-weight: bold;\">Tip</p>\n",
    "<p class=\"last\">You can list the bagging regressor's parameters using the <tt class=\"docutils literal\">get_params</tt>\n",
    "method.</p>\n",
    "</div>"
   ]
  },
  {
   "cell_type": "code",
   "execution_count": 5,
   "id": "7c5aa817",
   "metadata": {},
   "outputs": [
    {
     "name": "stdout",
     "output_type": "stream",
     "text": [
      "base_estimator__ccp_alpha\n",
      "base_estimator__criterion\n",
      "base_estimator__max_depth\n",
      "base_estimator__max_features\n",
      "base_estimator__max_leaf_nodes\n",
      "base_estimator__min_impurity_decrease\n",
      "base_estimator__min_samples_leaf\n",
      "base_estimator__min_samples_split\n",
      "base_estimator__min_weight_fraction_leaf\n",
      "base_estimator__random_state\n",
      "base_estimator__splitter\n",
      "base_estimator\n",
      "bootstrap\n",
      "bootstrap_features\n",
      "max_features\n",
      "max_samples\n",
      "n_estimators\n",
      "n_jobs\n",
      "oob_score\n",
      "random_state\n",
      "verbose\n",
      "warm_start\n"
     ]
    }
   ],
   "source": [
    "# Write your code here.\n",
    "for param in bagging.get_params().keys():\n",
    "    print(param)"
   ]
  },
  {
   "cell_type": "code",
   "execution_count": 7,
   "id": "c3f49c3c",
   "metadata": {},
   "outputs": [],
   "source": [
    "from sklearn.model_selection import RandomizedSearchCV\n",
    "from scipy.stats import randint\n",
    "\n",
    "param_grid = {\n",
    "    \"n_estimators\": randint(10, 30),\n",
    "    \"max_samples\": [0.5, 0.8, 1.0],\n",
    "    \"max_features\": [0.5, 0.8, 1.0],\n",
    "    \"base_estimator__max_depth\": randint(3, 10),\n",
    "}\n",
    "\n",
    "search = RandomizedSearchCV(\n",
    "    bagging, param_grid, n_iter=20, scoring=\"neg_mean_absolute_error\"\n",
    ")\n",
    "_ = search.fit(data_train, target_train)"
   ]
  },
  {
   "cell_type": "code",
   "execution_count": 8,
   "id": "6056af5d",
   "metadata": {},
   "outputs": [
    {
     "name": "stdout",
     "output_type": "stream",
     "text": [
      "Mean absolute error after tuning of the bagging regressor:\n",
      "38.67 k$\n"
     ]
    }
   ],
   "source": [
    "target_predicted = search.predict(data_test)\n",
    "print(f\"Mean absolute error after tuning of the bagging regressor:\\n\"\n",
    "      f\"{mean_absolute_error(target_test, target_predicted):.2f} k$\")"
   ]
  },
  {
   "cell_type": "markdown",
   "id": "07c5a665",
   "metadata": {},
   "source": [
    "We see that the predictor provided by the bagging regressor does not need\n",
    "much hyperparameter tuning compared to a single decision tree."
   ]
  }
 ],
 "metadata": {
  "jupytext": {
   "cell_metadata_filter": "-all",
   "encoding": "# -*- coding: utf-8 -*-",
   "main_language": "python",
   "notebook_metadata_filter": "-all"
  },
  "kernelspec": {
   "display_name": "Python 3 (ipykernel)",
   "language": "python",
   "name": "python3"
  },
  "language_info": {
   "codemirror_mode": {
    "name": "ipython",
    "version": 3
   },
   "file_extension": ".py",
   "mimetype": "text/x-python",
   "name": "python",
   "nbconvert_exporter": "python",
   "pygments_lexer": "ipython3",
   "version": "3.9.10"
  },
  "nbreset": "https://github.com/INRIA/scikit-learn-mooc/raw/main/notebooks/ensemble_ex_01.ipynb"
 },
 "nbformat": 4,
 "nbformat_minor": 5
}
