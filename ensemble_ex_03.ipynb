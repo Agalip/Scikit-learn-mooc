{
 "cells": [
  {
   "cell_type": "markdown",
   "id": "be19a145",
   "metadata": {},
   "source": [
    "# 📝 Exercise M6.03\n",
    "\n",
    "The aim of this exercise is to:\n",
    "\n",
    "* verifying if a random forest or a gradient-boosting decision tree overfit\n",
    "  if the number of estimators is not properly chosen;\n",
    "* use the early-stopping strategy to avoid adding unnecessary trees, to\n",
    "  get the best generalization performances.\n",
    "\n",
    "We will use the California housing dataset to conduct our experiments."
   ]
  },
  {
   "cell_type": "code",
   "execution_count": 1,
   "id": "658e7d45",
   "metadata": {},
   "outputs": [],
   "source": [
    "from sklearn.datasets import fetch_california_housing\n",
    "from sklearn.model_selection import train_test_split\n",
    "\n",
    "data, target = fetch_california_housing(return_X_y=True, as_frame=True)\n",
    "target *= 100  # rescale the target in k$\n",
    "data_train, data_test, target_train, target_test = train_test_split(\n",
    "    data, target, random_state=0, test_size=0.5)"
   ]
  },
  {
   "cell_type": "markdown",
   "id": "ef8ede8c",
   "metadata": {},
   "source": [
    "<div class=\"admonition note alert alert-info\">\n",
    "<p class=\"first admonition-title\" style=\"font-weight: bold;\">Note</p>\n",
    "<p class=\"last\">If you want a deeper overview regarding this dataset, you can refer to the\n",
    "Appendix - Datasets description section at the end of this MOOC.</p>\n",
    "</div>"
   ]
  },
  {
   "cell_type": "markdown",
   "id": "421d1a45",
   "metadata": {},
   "source": [
    "Create a gradient boosting decision tree with `max_depth=5` and\n",
    "`learning_rate=0.5`."
   ]
  },
  {
   "cell_type": "code",
   "execution_count": 4,
   "id": "91592abd",
   "metadata": {},
   "outputs": [],
   "source": [
    "# Write your code here.\n",
    "from sklearn.ensemble import GradientBoostingRegressor\n",
    "\n",
    "model_gradient = GradientBoostingRegressor(max_depth=5, learning_rate=0.5)"
   ]
  },
  {
   "cell_type": "markdown",
   "id": "ece70720",
   "metadata": {},
   "source": [
    "\n",
    "Also create a random forest with fully grown trees by setting `max_depth=None`."
   ]
  },
  {
   "cell_type": "code",
   "execution_count": 5,
   "id": "4a4505e1",
   "metadata": {},
   "outputs": [],
   "source": [
    "# Write your code here.\n",
    "from sklearn.ensemble import RandomForestRegressor\n",
    "\n",
    "model_random = RandomForestRegressor(max_depth=None)"
   ]
  },
  {
   "cell_type": "markdown",
   "id": "dcaa9174",
   "metadata": {},
   "source": [
    "\n",
    "For both the gradient-boosting and random forest models, create a validation\n",
    "curve using the training set to assess the impact of the number of trees on\n",
    "the performance of each model. Evaluate the list of parameters `param_range =\n",
    "[1, 2, 5, 10, 20, 50, 100]` and use the mean absolute error."
   ]
  },
  {
   "cell_type": "code",
   "execution_count": 6,
   "id": "58984f59",
   "metadata": {},
   "outputs": [],
   "source": [
    "# Write your code here.\n",
    "from sklearn.model_selection import validation_curve\n",
    "param_range = [1, 2, 5, 10, 20, 50, 100]"
   ]
  },
  {
   "cell_type": "code",
   "execution_count": 9,
   "id": "462ba211",
   "metadata": {},
   "outputs": [],
   "source": [
    "model_gradient_train_scores, model_gradient_validation_scores  = validation_curve(\n",
    "    estimator=model_gradient,\n",
    "    X=data_train,\n",
    "    y=target_train,\n",
    "    param_name=\"n_estimators\",\n",
    "    param_range=param_range,\n",
    "    scoring=\"neg_mean_absolute_error\",\n",
    "    n_jobs=2)\n",
    "\n",
    "model_gradient_train_errors, model_gradient_validation_errors = -model_gradient_train_scores, -model_gradient_validation_scores\n"
   ]
  },
  {
   "cell_type": "code",
   "execution_count": 10,
   "id": "63432dbf",
   "metadata": {},
   "outputs": [],
   "source": [
    "model_random_train_scores, model_random_validation_scores  = validation_curve(\n",
    "    estimator=model_random,\n",
    "    X=data_train,\n",
    "    y=target_train,\n",
    "    param_name=\"n_estimators\",\n",
    "    param_range=param_range,\n",
    "    scoring=\"neg_mean_absolute_error\",\n",
    "    n_jobs=2)\n",
    "\n",
    "model_random_train_errors, model_random_validation_errors = -model_random_train_scores, -model_random_validation_scores"
   ]
  },
  {
   "cell_type": "markdown",
   "id": "041f6f7b",
   "metadata": {},
   "source": [
    "Both gradient boosting and random forest models will always improve when\n",
    "increasing the number of trees in the ensemble. However, it will reach a\n",
    "plateau where adding new trees will just make fitting and scoring slower.\n",
    "\n",
    "To avoid adding new unnecessary tree, unlike random-forest gradient-boosting\n",
    "offers an early-stopping option. Internally, the algorithm will use an\n",
    "out-of-sample set to compute the generalization performance of the model at\n",
    "each addition of a tree. Thus, if the generalization performance is not\n",
    "improving for several iterations, it will stop adding trees.\n",
    "\n",
    "Now, create a gradient-boosting model with `n_estimators=1_000`. This number\n",
    "of trees will be too large. Change the parameter `n_iter_no_change` such\n",
    "that the gradient boosting fitting will stop after adding 5 trees that do not\n",
    "improve the overall generalization performance."
   ]
  },
  {
   "cell_type": "code",
   "execution_count": null,
   "id": "73428b88",
   "metadata": {},
   "outputs": [],
   "source": [
    "# Write your code here."
   ]
  },
  {
   "cell_type": "markdown",
   "id": "c9a69805",
   "metadata": {},
   "source": [
    "Estimate the generalization performance of this model again using\n",
    "the `sklearn.metrics.mean_absolute_error` metric but this time using\n",
    "the test set that we held out at the beginning of the notebook.\n",
    "Compare the resulting value with the values observed in the validation\n",
    "curve."
   ]
  },
  {
   "cell_type": "code",
   "execution_count": null,
   "id": "17f3f3ae",
   "metadata": {},
   "outputs": [],
   "source": [
    "# Write your code here."
   ]
  }
 ],
 "metadata": {
  "jupytext": {
   "cell_metadata_filter": "-all",
   "encoding": "# -*- coding: utf-8 -*-",
   "main_language": "python",
   "notebook_metadata_filter": "-all"
  },
  "kernelspec": {
   "display_name": "Python 3 (ipykernel)",
   "language": "python",
   "name": "python3"
  },
  "language_info": {
   "codemirror_mode": {
    "name": "ipython",
    "version": 3
   },
   "file_extension": ".py",
   "mimetype": "text/x-python",
   "name": "python",
   "nbconvert_exporter": "python",
   "pygments_lexer": "ipython3",
   "version": "3.9.10"
  },
  "nbreset": "https://github.com/INRIA/scikit-learn-mooc/raw/main/notebooks/ensemble_ex_03.ipynb"
 },
 "nbformat": 4,
 "nbformat_minor": 5
}
