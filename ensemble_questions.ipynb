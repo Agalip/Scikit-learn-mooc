{
 "cells": [
  {
   "cell_type": "code",
   "execution_count": 1,
   "metadata": {},
   "outputs": [],
   "source": [
    "import pandas as pd\n",
    "\n",
    "dataset = pd.read_csv(\"../datasets/penguins.csv\")\n",
    "\n",
    "feature_names = [\n",
    "    \"Culmen Length (mm)\",\n",
    "    \"Culmen Depth (mm)\",\n",
    "    \"Flipper Length (mm)\",\n",
    "]\n",
    "target_name = \"Body Mass (g)\"\n",
    "\n",
    "dataset = dataset[feature_names + [target_name]].dropna(axis=\"rows\", how=\"any\")\n",
    "dataset = dataset.sample(frac=1, random_state=0).reset_index(drop=True)\n",
    "data, target = dataset[feature_names], dataset[target_name]"
   ]
  },
  {
   "cell_type": "code",
   "execution_count": 2,
   "metadata": {},
   "outputs": [
    {
     "data": {
      "text/html": [
       "<div>\n",
       "<style scoped>\n",
       "    .dataframe tbody tr th:only-of-type {\n",
       "        vertical-align: middle;\n",
       "    }\n",
       "\n",
       "    .dataframe tbody tr th {\n",
       "        vertical-align: top;\n",
       "    }\n",
       "\n",
       "    .dataframe thead th {\n",
       "        text-align: right;\n",
       "    }\n",
       "</style>\n",
       "<table border=\"1\" class=\"dataframe\">\n",
       "  <thead>\n",
       "    <tr style=\"text-align: right;\">\n",
       "      <th></th>\n",
       "      <th>Culmen Length (mm)</th>\n",
       "      <th>Culmen Depth (mm)</th>\n",
       "      <th>Flipper Length (mm)</th>\n",
       "    </tr>\n",
       "  </thead>\n",
       "  <tbody>\n",
       "    <tr>\n",
       "      <th>0</th>\n",
       "      <td>39.6</td>\n",
       "      <td>18.1</td>\n",
       "      <td>186.0</td>\n",
       "    </tr>\n",
       "    <tr>\n",
       "      <th>1</th>\n",
       "      <td>46.1</td>\n",
       "      <td>18.2</td>\n",
       "      <td>178.0</td>\n",
       "    </tr>\n",
       "    <tr>\n",
       "      <th>2</th>\n",
       "      <td>37.5</td>\n",
       "      <td>18.5</td>\n",
       "      <td>199.0</td>\n",
       "    </tr>\n",
       "    <tr>\n",
       "      <th>3</th>\n",
       "      <td>45.2</td>\n",
       "      <td>17.8</td>\n",
       "      <td>198.0</td>\n",
       "    </tr>\n",
       "    <tr>\n",
       "      <th>4</th>\n",
       "      <td>39.2</td>\n",
       "      <td>19.6</td>\n",
       "      <td>195.0</td>\n",
       "    </tr>\n",
       "    <tr>\n",
       "      <th>...</th>\n",
       "      <td>...</td>\n",
       "      <td>...</td>\n",
       "      <td>...</td>\n",
       "    </tr>\n",
       "    <tr>\n",
       "      <th>337</th>\n",
       "      <td>49.8</td>\n",
       "      <td>17.3</td>\n",
       "      <td>198.0</td>\n",
       "    </tr>\n",
       "    <tr>\n",
       "      <th>338</th>\n",
       "      <td>49.6</td>\n",
       "      <td>16.0</td>\n",
       "      <td>225.0</td>\n",
       "    </tr>\n",
       "    <tr>\n",
       "      <th>339</th>\n",
       "      <td>35.7</td>\n",
       "      <td>17.0</td>\n",
       "      <td>189.0</td>\n",
       "    </tr>\n",
       "    <tr>\n",
       "      <th>340</th>\n",
       "      <td>36.0</td>\n",
       "      <td>17.9</td>\n",
       "      <td>190.0</td>\n",
       "    </tr>\n",
       "    <tr>\n",
       "      <th>341</th>\n",
       "      <td>45.1</td>\n",
       "      <td>14.5</td>\n",
       "      <td>215.0</td>\n",
       "    </tr>\n",
       "  </tbody>\n",
       "</table>\n",
       "<p>342 rows × 3 columns</p>\n",
       "</div>"
      ],
      "text/plain": [
       "     Culmen Length (mm)  Culmen Depth (mm)  Flipper Length (mm)\n",
       "0                  39.6               18.1                186.0\n",
       "1                  46.1               18.2                178.0\n",
       "2                  37.5               18.5                199.0\n",
       "3                  45.2               17.8                198.0\n",
       "4                  39.2               19.6                195.0\n",
       "..                  ...                ...                  ...\n",
       "337                49.8               17.3                198.0\n",
       "338                49.6               16.0                225.0\n",
       "339                35.7               17.0                189.0\n",
       "340                36.0               17.9                190.0\n",
       "341                45.1               14.5                215.0\n",
       "\n",
       "[342 rows x 3 columns]"
      ]
     },
     "execution_count": 2,
     "metadata": {},
     "output_type": "execute_result"
    }
   ],
   "source": [
    "data"
   ]
  },
  {
   "cell_type": "code",
   "execution_count": 3,
   "metadata": {},
   "outputs": [
    {
     "data": {
      "text/plain": [
       "0      4450.0\n",
       "1      3250.0\n",
       "2      4475.0\n",
       "3      3950.0\n",
       "4      4675.0\n",
       "        ...  \n",
       "337    3675.0\n",
       "338    5700.0\n",
       "339    3350.0\n",
       "340    3450.0\n",
       "341    5000.0\n",
       "Name: Body Mass (g), Length: 342, dtype: float64"
      ]
     },
     "execution_count": 3,
     "metadata": {},
     "output_type": "execute_result"
    }
   ],
   "source": [
    "target"
   ]
  },
  {
   "cell_type": "code",
   "execution_count": 4,
   "metadata": {},
   "outputs": [],
   "source": [
    "from sklearn.ensemble import RandomForestRegressor\n",
    "from sklearn.tree import DecisionTreeRegressor\n",
    "\n",
    "rfg = RandomForestRegressor(random_state=0)\n",
    "dtr = DecisionTreeRegressor(random_state=0)"
   ]
  },
  {
   "cell_type": "code",
   "execution_count": 5,
   "metadata": {},
   "outputs": [],
   "source": [
    "from sklearn.model_selection import cross_validate\n",
    "\n",
    "cv_results_1 = cross_validate(estimator=rfg, cv=10, X=data,\n",
    "                              y=target, return_train_score=True)\n",
    "cv_results_2 = cross_validate(estimator=dtr, cv=10, X=data,\n",
    "                              y=target, return_train_score=True)"
   ]
  },
  {
   "cell_type": "code",
   "execution_count": 6,
   "metadata": {},
   "outputs": [
    {
     "data": {
      "text/plain": [
       "array([0.78812533, 0.77436104, 0.88871396, 0.84661427, 0.78043644,\n",
       "       0.85771461, 0.79185662, 0.73543268, 0.76485281, 0.8077531 ])"
      ]
     },
     "execution_count": 6,
     "metadata": {},
     "output_type": "execute_result"
    }
   ],
   "source": [
    "cv_results_1['test_score']"
   ]
  },
  {
   "cell_type": "code",
   "execution_count": 7,
   "metadata": {},
   "outputs": [
    {
     "data": {
      "text/plain": [
       "array([0.59650558, 0.66957713, 0.7193112 , 0.8184209 , 0.6242818 ,\n",
       "       0.72483157, 0.53090702, 0.51655398, 0.58421785, 0.49038086])"
      ]
     },
     "execution_count": 7,
     "metadata": {},
     "output_type": "execute_result"
    }
   ],
   "source": [
    "cv_results_2['test_score']"
   ]
  },
  {
   "cell_type": "code",
   "execution_count": 8,
   "metadata": {},
   "outputs": [],
   "source": [
    "rfg_2 = RandomForestRegressor(n_estimators=5, random_state=0)\n",
    "rfg_3 = RandomForestRegressor(n_estimators=100, random_state=0)\n",
    "\n",
    "cv_results_3 = cross_validate(estimator=rfg_2, cv=10, X=data,\n",
    "                              y=target, return_train_score=True)\n",
    "cv_results_4 = cross_validate(estimator=rfg_3, cv=10, X=data,\n",
    "                              y=target, return_train_score=True)"
   ]
  },
  {
   "cell_type": "code",
   "execution_count": 9,
   "metadata": {},
   "outputs": [
    {
     "data": {
      "text/plain": [
       "array([0.77235183, 0.65802718, 0.85849519, 0.82029064, 0.78921964,\n",
       "       0.85126513, 0.77881189, 0.6144532 , 0.76453205, 0.7611934 ])"
      ]
     },
     "execution_count": 9,
     "metadata": {},
     "output_type": "execute_result"
    }
   ],
   "source": [
    "cv_results_3['test_score']"
   ]
  },
  {
   "cell_type": "code",
   "execution_count": 10,
   "metadata": {},
   "outputs": [
    {
     "data": {
      "text/plain": [
       "array([0.78812533, 0.77436104, 0.88871396, 0.84661427, 0.78043644,\n",
       "       0.85771461, 0.79185662, 0.73543268, 0.76485281, 0.8077531 ])"
      ]
     },
     "execution_count": 10,
     "metadata": {},
     "output_type": "execute_result"
    }
   ],
   "source": [
    "cv_results_4['test_score']"
   ]
  },
  {
   "cell_type": "code",
   "execution_count": 11,
   "metadata": {},
   "outputs": [],
   "source": [
    "n_estimators = [1, 2, 5, 10, 20, 50, 100, 200, 500, 1_000]"
   ]
  },
  {
   "cell_type": "code",
   "execution_count": 12,
   "metadata": {},
   "outputs": [],
   "source": [
    "from sklearn.model_selection import RandomizedSearchCV\n",
    "\n",
    "param_distributions = {\n",
    "    \"n_estimators\": n_estimators\n",
    "}\n",
    "\n",
    "search_cv = RandomizedSearchCV(\n",
    "    RandomForestRegressor(n_jobs=2), param_distributions=param_distributions,\n",
    "    scoring=\"neg_mean_absolute_error\", n_iter=10, random_state=0, n_jobs=2, \n",
    "    return_train_score=True\n",
    ")\n",
    "search_cv.fit(data, target)\n",
    "\n",
    "columns = [f\"param_{name}\" for name in param_distributions.keys()]\n"
   ]
  },
  {
   "cell_type": "code",
   "execution_count": 13,
   "metadata": {},
   "outputs": [
    {
     "data": {
      "text/html": [
       "<div>\n",
       "<style scoped>\n",
       "    .dataframe tbody tr th:only-of-type {\n",
       "        vertical-align: middle;\n",
       "    }\n",
       "\n",
       "    .dataframe tbody tr th {\n",
       "        vertical-align: top;\n",
       "    }\n",
       "\n",
       "    .dataframe thead th {\n",
       "        text-align: right;\n",
       "    }\n",
       "</style>\n",
       "<table border=\"1\" class=\"dataframe\">\n",
       "  <thead>\n",
       "    <tr style=\"text-align: right;\">\n",
       "      <th></th>\n",
       "      <th>param_n_estimators</th>\n",
       "      <th>mean_test_error</th>\n",
       "      <th>mean_train_score</th>\n",
       "      <th>std_test_error</th>\n",
       "    </tr>\n",
       "  </thead>\n",
       "  <tbody>\n",
       "    <tr>\n",
       "      <th>0</th>\n",
       "      <td>1</td>\n",
       "      <td>382.791986</td>\n",
       "      <td>143.110946</td>\n",
       "      <td>43.737078</td>\n",
       "    </tr>\n",
       "    <tr>\n",
       "      <th>1</th>\n",
       "      <td>2</td>\n",
       "      <td>324.259910</td>\n",
       "      <td>131.249967</td>\n",
       "      <td>18.396486</td>\n",
       "    </tr>\n",
       "    <tr>\n",
       "      <th>2</th>\n",
       "      <td>5</td>\n",
       "      <td>295.015772</td>\n",
       "      <td>120.568220</td>\n",
       "      <td>37.322468</td>\n",
       "    </tr>\n",
       "    <tr>\n",
       "      <th>3</th>\n",
       "      <td>10</td>\n",
       "      <td>294.731458</td>\n",
       "      <td>111.594349</td>\n",
       "      <td>31.431481</td>\n",
       "    </tr>\n",
       "    <tr>\n",
       "      <th>4</th>\n",
       "      <td>20</td>\n",
       "      <td>278.044917</td>\n",
       "      <td>106.744960</td>\n",
       "      <td>24.008084</td>\n",
       "    </tr>\n",
       "    <tr>\n",
       "      <th>5</th>\n",
       "      <td>50</td>\n",
       "      <td>274.966752</td>\n",
       "      <td>104.490129</td>\n",
       "      <td>23.811106</td>\n",
       "    </tr>\n",
       "    <tr>\n",
       "      <th>6</th>\n",
       "      <td>100</td>\n",
       "      <td>280.880435</td>\n",
       "      <td>102.983869</td>\n",
       "      <td>23.114316</td>\n",
       "    </tr>\n",
       "    <tr>\n",
       "      <th>7</th>\n",
       "      <td>200</td>\n",
       "      <td>279.388310</td>\n",
       "      <td>103.386167</td>\n",
       "      <td>22.720891</td>\n",
       "    </tr>\n",
       "    <tr>\n",
       "      <th>8</th>\n",
       "      <td>500</td>\n",
       "      <td>276.659154</td>\n",
       "      <td>102.562880</td>\n",
       "      <td>20.447168</td>\n",
       "    </tr>\n",
       "    <tr>\n",
       "      <th>9</th>\n",
       "      <td>1000</td>\n",
       "      <td>277.749462</td>\n",
       "      <td>102.298230</td>\n",
       "      <td>21.558315</td>\n",
       "    </tr>\n",
       "  </tbody>\n",
       "</table>\n",
       "</div>"
      ],
      "text/plain": [
       "  param_n_estimators  mean_test_error  mean_train_score  std_test_error\n",
       "0                  1       382.791986        143.110946       43.737078\n",
       "1                  2       324.259910        131.249967       18.396486\n",
       "2                  5       295.015772        120.568220       37.322468\n",
       "3                 10       294.731458        111.594349       31.431481\n",
       "4                 20       278.044917        106.744960       24.008084\n",
       "5                 50       274.966752        104.490129       23.811106\n",
       "6                100       280.880435        102.983869       23.114316\n",
       "7                200       279.388310        103.386167       22.720891\n",
       "8                500       276.659154        102.562880       20.447168\n",
       "9               1000       277.749462        102.298230       21.558315"
      ]
     },
     "execution_count": 13,
     "metadata": {},
     "output_type": "execute_result"
    }
   ],
   "source": [
    "columns = [f\"param_{name}\" for name in param_distributions.keys()]\n",
    "columns += [\"mean_test_error\", \"mean_train_score\", \"std_test_error\"]\n",
    "cv_results = pd.DataFrame(search_cv.cv_results_)\n",
    "cv_results[\"mean_test_error\"] = -cv_results[\"mean_test_score\"]\n",
    "cv_results[\"mean_train_score\"] = -cv_results[\"mean_train_score\"]\n",
    "cv_results[\"std_test_error\"] = cv_results[\"std_test_score\"]\n",
    "cv_results[columns].sort_values(by=\"param_n_estimators\")"
   ]
  },
  {
   "cell_type": "code",
   "execution_count": 15,
   "metadata": {},
   "outputs": [],
   "source": [
    "param_distributions = {\n",
    "    \"n_estimators\": n_estimators\n",
    "}\n",
    "\n",
    "search_cv = RandomizedSearchCV(\n",
    "    RandomForestRegressor(max_depth=5 , n_jobs=2), param_distributions=param_distributions,\n",
    "    scoring=\"neg_mean_absolute_error\", n_iter=10, random_state=0, n_jobs=2, \n",
    "    return_train_score=True\n",
    ")\n",
    "search_cv.fit(data, target)\n",
    "\n",
    "columns = [f\"param_{name}\" for name in param_distributions.keys()]\n"
   ]
  },
  {
   "cell_type": "code",
   "execution_count": 16,
   "metadata": {},
   "outputs": [
    {
     "data": {
      "text/html": [
       "<div>\n",
       "<style scoped>\n",
       "    .dataframe tbody tr th:only-of-type {\n",
       "        vertical-align: middle;\n",
       "    }\n",
       "\n",
       "    .dataframe tbody tr th {\n",
       "        vertical-align: top;\n",
       "    }\n",
       "\n",
       "    .dataframe thead th {\n",
       "        text-align: right;\n",
       "    }\n",
       "</style>\n",
       "<table border=\"1\" class=\"dataframe\">\n",
       "  <thead>\n",
       "    <tr style=\"text-align: right;\">\n",
       "      <th></th>\n",
       "      <th>param_n_estimators</th>\n",
       "      <th>mean_test_error</th>\n",
       "      <th>mean_train_score</th>\n",
       "      <th>std_test_error</th>\n",
       "    </tr>\n",
       "  </thead>\n",
       "  <tbody>\n",
       "    <tr>\n",
       "      <th>0</th>\n",
       "      <td>1</td>\n",
       "      <td>319.251829</td>\n",
       "      <td>242.840740</td>\n",
       "      <td>48.854719</td>\n",
       "    </tr>\n",
       "    <tr>\n",
       "      <th>1</th>\n",
       "      <td>2</td>\n",
       "      <td>314.250655</td>\n",
       "      <td>215.912414</td>\n",
       "      <td>25.598985</td>\n",
       "    </tr>\n",
       "    <tr>\n",
       "      <th>2</th>\n",
       "      <td>5</td>\n",
       "      <td>280.862445</td>\n",
       "      <td>205.265460</td>\n",
       "      <td>22.492504</td>\n",
       "    </tr>\n",
       "    <tr>\n",
       "      <th>3</th>\n",
       "      <td>10</td>\n",
       "      <td>276.349883</td>\n",
       "      <td>198.451468</td>\n",
       "      <td>17.789959</td>\n",
       "    </tr>\n",
       "    <tr>\n",
       "      <th>4</th>\n",
       "      <td>20</td>\n",
       "      <td>276.404466</td>\n",
       "      <td>193.929500</td>\n",
       "      <td>16.053199</td>\n",
       "    </tr>\n",
       "    <tr>\n",
       "      <th>5</th>\n",
       "      <td>50</td>\n",
       "      <td>267.525916</td>\n",
       "      <td>191.744625</td>\n",
       "      <td>19.573069</td>\n",
       "    </tr>\n",
       "    <tr>\n",
       "      <th>6</th>\n",
       "      <td>100</td>\n",
       "      <td>270.328163</td>\n",
       "      <td>190.332217</td>\n",
       "      <td>19.290908</td>\n",
       "    </tr>\n",
       "    <tr>\n",
       "      <th>7</th>\n",
       "      <td>200</td>\n",
       "      <td>268.549508</td>\n",
       "      <td>190.637074</td>\n",
       "      <td>19.297756</td>\n",
       "    </tr>\n",
       "    <tr>\n",
       "      <th>8</th>\n",
       "      <td>500</td>\n",
       "      <td>267.694631</td>\n",
       "      <td>190.861939</td>\n",
       "      <td>18.528596</td>\n",
       "    </tr>\n",
       "    <tr>\n",
       "      <th>9</th>\n",
       "      <td>1000</td>\n",
       "      <td>267.544332</td>\n",
       "      <td>190.846748</td>\n",
       "      <td>18.567463</td>\n",
       "    </tr>\n",
       "  </tbody>\n",
       "</table>\n",
       "</div>"
      ],
      "text/plain": [
       "  param_n_estimators  mean_test_error  mean_train_score  std_test_error\n",
       "0                  1       319.251829        242.840740       48.854719\n",
       "1                  2       314.250655        215.912414       25.598985\n",
       "2                  5       280.862445        205.265460       22.492504\n",
       "3                 10       276.349883        198.451468       17.789959\n",
       "4                 20       276.404466        193.929500       16.053199\n",
       "5                 50       267.525916        191.744625       19.573069\n",
       "6                100       270.328163        190.332217       19.290908\n",
       "7                200       268.549508        190.637074       19.297756\n",
       "8                500       267.694631        190.861939       18.528596\n",
       "9               1000       267.544332        190.846748       18.567463"
      ]
     },
     "execution_count": 16,
     "metadata": {},
     "output_type": "execute_result"
    }
   ],
   "source": [
    "columns = [f\"param_{name}\" for name in param_distributions.keys()]\n",
    "columns += [\"mean_test_error\", \"mean_train_score\", \"std_test_error\"]\n",
    "cv_results = pd.DataFrame(search_cv.cv_results_)\n",
    "cv_results[\"mean_test_error\"] = -cv_results[\"mean_test_score\"]\n",
    "cv_results[\"mean_train_score\"] = -cv_results[\"mean_train_score\"]\n",
    "cv_results[\"std_test_error\"] = cv_results[\"std_test_score\"]\n",
    "cv_results[columns].sort_values(by=\"param_n_estimators\")"
   ]
  },
  {
   "cell_type": "code",
   "execution_count": null,
   "metadata": {},
   "outputs": [],
   "source": []
  }
 ],
 "metadata": {
  "kernelspec": {
   "display_name": "Python 3 (ipykernel)",
   "language": "python",
   "name": "python3"
  },
  "language_info": {
   "codemirror_mode": {
    "name": "ipython",
    "version": 3
   },
   "file_extension": ".py",
   "mimetype": "text/x-python",
   "name": "python",
   "nbconvert_exporter": "python",
   "pygments_lexer": "ipython3",
   "version": "3.9.10"
  }
 },
 "nbformat": 4,
 "nbformat_minor": 4
}
