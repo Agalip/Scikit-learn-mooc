{
 "cells": [
  {
   "cell_type": "code",
   "execution_count": 112,
   "metadata": {},
   "outputs": [
    {
     "data": {
      "text/html": [
       "<div>\n",
       "<style scoped>\n",
       "    .dataframe tbody tr th:only-of-type {\n",
       "        vertical-align: middle;\n",
       "    }\n",
       "\n",
       "    .dataframe tbody tr th {\n",
       "        vertical-align: top;\n",
       "    }\n",
       "\n",
       "    .dataframe thead th {\n",
       "        text-align: right;\n",
       "    }\n",
       "</style>\n",
       "<table border=\"1\" class=\"dataframe\">\n",
       "  <thead>\n",
       "    <tr style=\"text-align: right;\">\n",
       "      <th></th>\n",
       "      <th>heart-rate</th>\n",
       "      <th>cadence</th>\n",
       "      <th>speed</th>\n",
       "      <th>acceleration</th>\n",
       "      <th>slope</th>\n",
       "    </tr>\n",
       "    <tr>\n",
       "      <th></th>\n",
       "      <th></th>\n",
       "      <th></th>\n",
       "      <th></th>\n",
       "      <th></th>\n",
       "      <th></th>\n",
       "    </tr>\n",
       "  </thead>\n",
       "  <tbody>\n",
       "    <tr>\n",
       "      <th>2020-08-18 14:43:19</th>\n",
       "      <td>102.0</td>\n",
       "      <td>64.0</td>\n",
       "      <td>4.325</td>\n",
       "      <td>0.0880</td>\n",
       "      <td>-0.033870</td>\n",
       "    </tr>\n",
       "    <tr>\n",
       "      <th>2020-08-18 14:43:20</th>\n",
       "      <td>103.0</td>\n",
       "      <td>64.0</td>\n",
       "      <td>4.336</td>\n",
       "      <td>0.0842</td>\n",
       "      <td>-0.033571</td>\n",
       "    </tr>\n",
       "    <tr>\n",
       "      <th>2020-08-18 14:43:21</th>\n",
       "      <td>105.0</td>\n",
       "      <td>66.0</td>\n",
       "      <td>4.409</td>\n",
       "      <td>0.0234</td>\n",
       "      <td>-0.033223</td>\n",
       "    </tr>\n",
       "    <tr>\n",
       "      <th>2020-08-18 14:43:22</th>\n",
       "      <td>106.0</td>\n",
       "      <td>66.0</td>\n",
       "      <td>4.445</td>\n",
       "      <td>0.0016</td>\n",
       "      <td>-0.032908</td>\n",
       "    </tr>\n",
       "    <tr>\n",
       "      <th>2020-08-18 14:43:23</th>\n",
       "      <td>106.0</td>\n",
       "      <td>67.0</td>\n",
       "      <td>4.441</td>\n",
       "      <td>0.1144</td>\n",
       "      <td>0.000000</td>\n",
       "    </tr>\n",
       "    <tr>\n",
       "      <th>...</th>\n",
       "      <td>...</td>\n",
       "      <td>...</td>\n",
       "      <td>...</td>\n",
       "      <td>...</td>\n",
       "      <td>...</td>\n",
       "    </tr>\n",
       "    <tr>\n",
       "      <th>2020-09-13 14:55:57</th>\n",
       "      <td>130.0</td>\n",
       "      <td>0.0</td>\n",
       "      <td>1.054</td>\n",
       "      <td>0.0234</td>\n",
       "      <td>0.000000</td>\n",
       "    </tr>\n",
       "    <tr>\n",
       "      <th>2020-09-13 14:55:58</th>\n",
       "      <td>130.0</td>\n",
       "      <td>0.0</td>\n",
       "      <td>0.829</td>\n",
       "      <td>0.0258</td>\n",
       "      <td>0.000000</td>\n",
       "    </tr>\n",
       "    <tr>\n",
       "      <th>2020-09-13 14:55:59</th>\n",
       "      <td>129.0</td>\n",
       "      <td>0.0</td>\n",
       "      <td>0.616</td>\n",
       "      <td>-0.1686</td>\n",
       "      <td>0.000000</td>\n",
       "    </tr>\n",
       "    <tr>\n",
       "      <th>2020-09-13 14:56:00</th>\n",
       "      <td>130.0</td>\n",
       "      <td>0.0</td>\n",
       "      <td>0.000</td>\n",
       "      <td>-0.4284</td>\n",
       "      <td>0.000000</td>\n",
       "    </tr>\n",
       "    <tr>\n",
       "      <th>2020-09-13 14:56:01</th>\n",
       "      <td>130.0</td>\n",
       "      <td>0.0</td>\n",
       "      <td>0.000</td>\n",
       "      <td>-0.3096</td>\n",
       "      <td>0.000000</td>\n",
       "    </tr>\n",
       "  </tbody>\n",
       "</table>\n",
       "<p>38254 rows × 5 columns</p>\n",
       "</div>"
      ],
      "text/plain": [
       "                     heart-rate  cadence  speed  acceleration     slope\n",
       "                                                                       \n",
       "2020-08-18 14:43:19       102.0     64.0  4.325        0.0880 -0.033870\n",
       "2020-08-18 14:43:20       103.0     64.0  4.336        0.0842 -0.033571\n",
       "2020-08-18 14:43:21       105.0     66.0  4.409        0.0234 -0.033223\n",
       "2020-08-18 14:43:22       106.0     66.0  4.445        0.0016 -0.032908\n",
       "2020-08-18 14:43:23       106.0     67.0  4.441        0.1144  0.000000\n",
       "...                         ...      ...    ...           ...       ...\n",
       "2020-09-13 14:55:57       130.0      0.0  1.054        0.0234  0.000000\n",
       "2020-09-13 14:55:58       130.0      0.0  0.829        0.0258  0.000000\n",
       "2020-09-13 14:55:59       129.0      0.0  0.616       -0.1686  0.000000\n",
       "2020-09-13 14:56:00       130.0      0.0  0.000       -0.4284  0.000000\n",
       "2020-09-13 14:56:01       130.0      0.0  0.000       -0.3096  0.000000\n",
       "\n",
       "[38254 rows x 5 columns]"
      ]
     },
     "execution_count": 112,
     "metadata": {},
     "output_type": "execute_result"
    }
   ],
   "source": [
    "import pandas as pd\n",
    "import numpy as np\n",
    "\n",
    "cycling = pd.read_csv(\"../datasets/bike_rides.csv\", index_col=0,\n",
    "                      parse_dates=True)\n",
    "cycling.index.name = \"\"\n",
    "target_name = \"power\"\n",
    "data, target = cycling.drop(columns=target_name), cycling[target_name]\n",
    "data"
   ]
  },
  {
   "cell_type": "code",
   "execution_count": 113,
   "metadata": {},
   "outputs": [
    {
     "data": {
      "text/plain": [
       "-0.0027097096125663312"
      ]
     },
     "execution_count": 113,
     "metadata": {},
     "output_type": "execute_result"
    }
   ],
   "source": [
    "data_linear_model = pd.concat(\n",
    "    {\"speed^3\": data[\"speed\"] ** 3,\n",
    "     \"speed\": data[\"speed\"],\n",
    "     \"speed*sin(alpha)\": data[\"speed\"] * np.sin(np.arctan(data[\"slope\"])),\n",
    "     \"speed*acceleration\": data[\"speed\"] * data[\"acceleration\"].clip(lower=0)},\n",
    "    axis=1\n",
    ")\n",
    "data_linear_model.mean()[\"speed*sin(alpha)\"]"
   ]
  },
  {
   "cell_type": "code",
   "execution_count": 114,
   "metadata": {},
   "outputs": [
    {
     "data": {
      "text/html": [
       "<div>\n",
       "<style scoped>\n",
       "    .dataframe tbody tr th:only-of-type {\n",
       "        vertical-align: middle;\n",
       "    }\n",
       "\n",
       "    .dataframe tbody tr th {\n",
       "        vertical-align: top;\n",
       "    }\n",
       "\n",
       "    .dataframe thead th {\n",
       "        text-align: right;\n",
       "    }\n",
       "</style>\n",
       "<table border=\"1\" class=\"dataframe\">\n",
       "  <thead>\n",
       "    <tr style=\"text-align: right;\">\n",
       "      <th></th>\n",
       "      <th>speed^3</th>\n",
       "      <th>speed</th>\n",
       "      <th>speed*sin(alpha)</th>\n",
       "      <th>speed*acceleration</th>\n",
       "    </tr>\n",
       "    <tr>\n",
       "      <th></th>\n",
       "      <th></th>\n",
       "      <th></th>\n",
       "      <th></th>\n",
       "      <th></th>\n",
       "    </tr>\n",
       "  </thead>\n",
       "  <tbody>\n",
       "    <tr>\n",
       "      <th>2020-08-18 14:43:19</th>\n",
       "      <td>80.901828</td>\n",
       "      <td>4.325</td>\n",
       "      <td>-0.146402</td>\n",
       "      <td>0.380600</td>\n",
       "    </tr>\n",
       "    <tr>\n",
       "      <th>2020-08-18 14:43:20</th>\n",
       "      <td>81.520685</td>\n",
       "      <td>4.336</td>\n",
       "      <td>-0.145482</td>\n",
       "      <td>0.365091</td>\n",
       "    </tr>\n",
       "    <tr>\n",
       "      <th>2020-08-18 14:43:21</th>\n",
       "      <td>85.707790</td>\n",
       "      <td>4.409</td>\n",
       "      <td>-0.146398</td>\n",
       "      <td>0.103171</td>\n",
       "    </tr>\n",
       "    <tr>\n",
       "      <th>2020-08-18 14:43:22</th>\n",
       "      <td>87.824421</td>\n",
       "      <td>4.445</td>\n",
       "      <td>-0.146198</td>\n",
       "      <td>0.007112</td>\n",
       "    </tr>\n",
       "    <tr>\n",
       "      <th>2020-08-18 14:43:23</th>\n",
       "      <td>87.587538</td>\n",
       "      <td>4.441</td>\n",
       "      <td>0.000000</td>\n",
       "      <td>0.508050</td>\n",
       "    </tr>\n",
       "    <tr>\n",
       "      <th>...</th>\n",
       "      <td>...</td>\n",
       "      <td>...</td>\n",
       "      <td>...</td>\n",
       "      <td>...</td>\n",
       "    </tr>\n",
       "    <tr>\n",
       "      <th>2020-09-13 14:55:57</th>\n",
       "      <td>1.170905</td>\n",
       "      <td>1.054</td>\n",
       "      <td>0.000000</td>\n",
       "      <td>0.024664</td>\n",
       "    </tr>\n",
       "    <tr>\n",
       "      <th>2020-09-13 14:55:58</th>\n",
       "      <td>0.569723</td>\n",
       "      <td>0.829</td>\n",
       "      <td>0.000000</td>\n",
       "      <td>0.021388</td>\n",
       "    </tr>\n",
       "    <tr>\n",
       "      <th>2020-09-13 14:55:59</th>\n",
       "      <td>0.233745</td>\n",
       "      <td>0.616</td>\n",
       "      <td>0.000000</td>\n",
       "      <td>0.000000</td>\n",
       "    </tr>\n",
       "    <tr>\n",
       "      <th>2020-09-13 14:56:00</th>\n",
       "      <td>0.000000</td>\n",
       "      <td>0.000</td>\n",
       "      <td>0.000000</td>\n",
       "      <td>0.000000</td>\n",
       "    </tr>\n",
       "    <tr>\n",
       "      <th>2020-09-13 14:56:01</th>\n",
       "      <td>0.000000</td>\n",
       "      <td>0.000</td>\n",
       "      <td>0.000000</td>\n",
       "      <td>0.000000</td>\n",
       "    </tr>\n",
       "  </tbody>\n",
       "</table>\n",
       "<p>38254 rows × 4 columns</p>\n",
       "</div>"
      ],
      "text/plain": [
       "                       speed^3  speed  speed*sin(alpha)  speed*acceleration\n",
       "                                                                           \n",
       "2020-08-18 14:43:19  80.901828  4.325         -0.146402            0.380600\n",
       "2020-08-18 14:43:20  81.520685  4.336         -0.145482            0.365091\n",
       "2020-08-18 14:43:21  85.707790  4.409         -0.146398            0.103171\n",
       "2020-08-18 14:43:22  87.824421  4.445         -0.146198            0.007112\n",
       "2020-08-18 14:43:23  87.587538  4.441          0.000000            0.508050\n",
       "...                        ...    ...               ...                 ...\n",
       "2020-09-13 14:55:57   1.170905  1.054          0.000000            0.024664\n",
       "2020-09-13 14:55:58   0.569723  0.829          0.000000            0.021388\n",
       "2020-09-13 14:55:59   0.233745  0.616          0.000000            0.000000\n",
       "2020-09-13 14:56:00   0.000000  0.000          0.000000            0.000000\n",
       "2020-09-13 14:56:01   0.000000  0.000          0.000000            0.000000\n",
       "\n",
       "[38254 rows x 4 columns]"
      ]
     },
     "execution_count": 114,
     "metadata": {},
     "output_type": "execute_result"
    }
   ],
   "source": [
    "data_linear_model"
   ]
  },
  {
   "cell_type": "code",
   "execution_count": 115,
   "metadata": {},
   "outputs": [
    {
     "name": "stdout",
     "output_type": "stream",
     "text": [
      "MAE on test sets:\n",
      " [73.23006461 72.1311734  72.89061823 71.2370263 ]\n",
      " mean +/- std: 72.372 +/- 0.767 Watts\n"
     ]
    }
   ],
   "source": [
    "from sklearn.pipeline import make_pipeline\n",
    "from sklearn.preprocessing import StandardScaler\n",
    "from sklearn.linear_model import RidgeCV\n",
    "from sklearn.model_selection import cross_validate\n",
    "from sklearn.model_selection import ShuffleSplit\n",
    "\n",
    "# create the model\n",
    "linear_model = make_pipeline(StandardScaler(), RidgeCV())\n",
    "\n",
    "# evaluate the model with cross-validation\n",
    "cv = ShuffleSplit(n_splits=4, random_state=0)\n",
    "cv_results_linear_model = cross_validate(\n",
    "    linear_model, data_linear_model, target, cv=cv,\n",
    "    scoring=\"neg_mean_absolute_error\",\n",
    "    return_estimator=True, return_train_score=True)\n",
    "errors = -cv_results_linear_model[\"test_score\"]\n",
    "print(f\"MAE on test sets:\\n {errors}\\n\",\n",
    "      f\"mean +/- std: {errors.mean():.3f} +/- {errors.std():.3f} Watts\")"
   ]
  },
  {
   "cell_type": "code",
   "execution_count": 116,
   "metadata": {},
   "outputs": [
    {
     "data": {
      "text/plain": [
       "Pipeline(steps=[('standardscaler', StandardScaler()),\n",
       "                ('ridgecv', RidgeCV(alphas=array([ 0.1,  1. , 10. ])))])"
      ]
     },
     "execution_count": 116,
     "metadata": {},
     "output_type": "execute_result"
    }
   ],
   "source": [
    "linear_model"
   ]
  },
  {
   "cell_type": "code",
   "execution_count": 117,
   "metadata": {},
   "outputs": [
    {
     "name": "stdout",
     "output_type": "stream",
     "text": [
      "[ 5.66427806 32.84904152 80.08105928 10.85618779]\n",
      "[ 5.68897463 32.83434375 80.99005594 11.34425   ]\n",
      "[ 6.28736152 32.19112942 80.92397865 11.23297157]\n",
      "[ 6.18278112 32.4035743  80.61344415 11.27427489]\n"
     ]
    }
   ],
   "source": [
    "for model in cv_results_linear_model['estimator']:\n",
    "    print(model[1].coef_)"
   ]
  },
  {
   "cell_type": "code",
   "execution_count": 118,
   "metadata": {},
   "outputs": [
    {
     "data": {
      "text/plain": [
       "array([ 5.66427806, 32.84904152, 80.08105928, 10.85618779])"
      ]
     },
     "execution_count": 118,
     "metadata": {},
     "output_type": "execute_result"
    }
   ],
   "source": [
    "cv_results_linear_model['estimator'][0][1].coef_"
   ]
  },
  {
   "cell_type": "code",
   "execution_count": 119,
   "metadata": {},
   "outputs": [],
   "source": [
    "from sklearn.ensemble import HistGradientBoostingRegressor\n",
    "\n",
    "est = HistGradientBoostingRegressor(early_stopping=True, max_iter=1000)\n"
   ]
  },
  {
   "cell_type": "code",
   "execution_count": 120,
   "metadata": {},
   "outputs": [
    {
     "name": "stdout",
     "output_type": "stream",
     "text": [
      "MAE on test sets:\n",
      " [44.35647428 43.91321636 43.3975188  43.587429  ]\n",
      " mean +/- std: 43.814 +/- 0.364 Watts\n"
     ]
    }
   ],
   "source": [
    "cv = ShuffleSplit(n_splits=4, random_state=0)\n",
    "cv_results_linear_model = cross_validate(\n",
    "    est, data, target, cv=cv,\n",
    "    scoring=\"neg_mean_absolute_error\",\n",
    "    return_estimator=True, return_train_score=True)\n",
    "errors = -cv_results_linear_model[\"test_score\"]\n",
    "print(f\"MAE on test sets:\\n {errors}\\n\",\n",
    "      f\"mean +/- std: {errors.mean():.3f} +/- {errors.std():.3f} Watts\")"
   ]
  },
  {
   "cell_type": "code",
   "execution_count": 121,
   "metadata": {},
   "outputs": [
    {
     "data": {
      "text/plain": [
       "array([datetime.date(2020, 8, 18), datetime.date(2020, 8, 20),\n",
       "       datetime.date(2020, 8, 26), datetime.date(2020, 9, 13)],\n",
       "      dtype=object)"
      ]
     },
     "execution_count": 121,
     "metadata": {},
     "output_type": "execute_result"
    }
   ],
   "source": [
    "np.unique(data.index.date)"
   ]
  },
  {
   "cell_type": "code",
   "execution_count": 124,
   "metadata": {},
   "outputs": [
    {
     "name": "stdout",
     "output_type": "stream",
     "text": [
      "MAE on test sets:\n",
      " [44.39516221 44.13036203 43.75817    43.06094014]\n",
      " mean +/- std: 43.836 +/- 0.502 Watts\n"
     ]
    }
   ],
   "source": [
    "from sklearn.ensemble import HistGradientBoostingRegressor\n",
    "\n",
    "hgbdt = HistGradientBoostingRegressor(\n",
    "    max_iter=1000, early_stopping=True, random_state=42\n",
    ")\n",
    "\n",
    "cv = ShuffleSplit(n_splits=4, random_state=0)\n",
    "cv_results_hgbdt = cross_validate(\n",
    "    hgbdt, data, target, cv=cv, scoring=\"neg_mean_absolute_error\",\n",
    "    return_estimator=True, return_train_score=True, n_jobs=2)\n",
    "\n",
    "errors = -cv_results_hgbdt[\"test_score\"]\n",
    "print(f\"MAE on test sets:\\n {errors}\\n\",\n",
    "      f\"mean +/- std: {errors.mean():.3f} +/- {errors.std():.3f} Watts\")"
   ]
  },
  {
   "cell_type": "code",
   "execution_count": 125,
   "metadata": {},
   "outputs": [
    {
     "name": "stdout",
     "output_type": "stream",
     "text": [
      "Linear model - MAE on train sets:\t 39.907 +/- 1.239 Watts\n",
      "Linear model - MAE on test sets:\t 43.814 +/- 0.364 Watts\n",
      "Histogram GBDT - MAE on train sets:\t 40.561 +/- 0.686 Watts\n",
      "Histogram GBDT - MAE on test sets:\t 43.836 +/- 0.502 Watts\n"
     ]
    }
   ],
   "source": [
    "errors_SS_lm = -cv_results_linear_model[\"train_score\"]\n",
    "print(f\"Linear model - MAE on train sets:\\t\",\n",
    "      f\"{errors_SS_lm.mean():.3f} +/- {errors_SS_lm.std():.3f} Watts\")\n",
    "errors_SS_lm = -cv_results_linear_model[\"test_score\"]\n",
    "print(f\"Linear model - MAE on test sets:\\t\",\n",
    "      f\"{errors_SS_lm.mean():.3f} +/- {errors_SS_lm.std():.3f} Watts\")\n",
    "\n",
    "errors_SS_hgbdt = -cv_results_hgbdt[\"train_score\"]\n",
    "print(f\"Histogram GBDT - MAE on train sets:\\t\",\n",
    "      f\"{errors_SS_hgbdt.mean():.3f} +/- {errors_SS_hgbdt.std():.3f} Watts\")\n",
    "errors_SS_hgbdt = -cv_results_hgbdt[\"test_score\"]\n",
    "print(f\"Histogram GBDT - MAE on test sets:\\t\",\n",
    "      f\"{errors_SS_hgbdt.mean():.3f} +/- {errors_SS_hgbdt.std():.3f} Watts\")"
   ]
  },
  {
   "cell_type": "code",
   "execution_count": 126,
   "metadata": {},
   "outputs": [
    {
     "name": "stdout",
     "output_type": "stream",
     "text": [
      "There are 4 bike rides\n"
     ]
    }
   ],
   "source": [
    "import numpy as np\n",
    "\n",
    "unique_ride_dates = np.unique(cycling.index.date)\n",
    "print(f\"There are {len(unique_ride_dates)} bike rides\")"
   ]
  },
  {
   "cell_type": "code",
   "execution_count": 127,
   "metadata": {},
   "outputs": [
    {
     "name": "stdout",
     "output_type": "stream",
     "text": [
      "Linear model - MAE on train sets:\t 72.249 +/- 2.247 Watts\n",
      "Linear model - MAE on test sets:\t 73.015 +/- 5.779 Watts\n",
      "Histogram GBDT - MAE on train sets:\t 40.131 +/- 1.295 Watts\n",
      "Histogram GBDT - MAE on test sets:\t 49.204 +/- 2.694 Watts\n"
     ]
    }
   ],
   "source": [
    "from sklearn.model_selection import LeaveOneGroupOut\n",
    "\n",
    "groups, _ = pd.factorize(data_linear_model.index.date)\n",
    "cv = LeaveOneGroupOut()\n",
    "\n",
    "cv_results_linear_model = cross_validate(\n",
    "    linear_model, data_linear_model, target, groups=groups, cv=cv,\n",
    "    scoring=\"neg_mean_absolute_error\", return_estimator=True,\n",
    "    return_train_score=True, n_jobs=2)\n",
    "cv_results_hgbdt = cross_validate(\n",
    "    hgbdt, data, target, groups=groups, cv=cv,\n",
    "    scoring=\"neg_mean_absolute_error\", return_estimator=True,\n",
    "    return_train_score=True, n_jobs=2)\n",
    "\n",
    "errors_LOGO_lm = -cv_results_linear_model[\"train_score\"]\n",
    "print(f\"Linear model - MAE on train sets:\\t\",\n",
    "      f\"{errors_LOGO_lm.mean():.3f} +/- {errors_LOGO_lm.std():.3f} Watts\")\n",
    "errors_LOGO_lm = -cv_results_linear_model[\"test_score\"]\n",
    "print(f\"Linear model - MAE on test sets:\\t\",\n",
    "      f\"{errors_LOGO_lm.mean():.3f} +/- {errors_LOGO_lm.std():.3f} Watts\")\n",
    "\n",
    "errors_LOGO_hgbdt = -cv_results_hgbdt[\"train_score\"]\n",
    "print(f\"Histogram GBDT - MAE on train sets:\\t\",\n",
    "      f\"{errors_LOGO_hgbdt.mean():.3f} +/- {errors_LOGO_hgbdt.std():.3f} Watts\")\n",
    "errors_LOGO_hgbdt = -cv_results_hgbdt[\"test_score\"]\n",
    "print(f\"Histogram GBDT - MAE on test sets:\\t\",\n",
    "      f\"{errors_LOGO_hgbdt.mean():.3f} +/- {errors_LOGO_hgbdt.std():.3f} Watts\")"
   ]
  },
  {
   "cell_type": "code",
   "execution_count": 128,
   "metadata": {},
   "outputs": [
    {
     "name": "stdout",
     "output_type": "stream",
     "text": [
      "LM with LeaveOneGroupOut has a bigger test error than LM with ShuffleSplit by 29.201115640096738 Watts.\n"
     ]
    }
   ],
   "source": [
    "print(\n",
    "    \"LM with LeaveOneGroupOut has a bigger test error than LM with ShuffleSplit by \"\n",
    "    f\"{errors_LOGO_lm.mean() - errors_SS_lm.mean()}\"\n",
    "    \" Watts.\"\n",
    ")"
   ]
  },
  {
   "cell_type": "code",
   "execution_count": 129,
   "metadata": {},
   "outputs": [
    {
     "name": "stdout",
     "output_type": "stream",
     "text": [
      "HGBDT with LeaveOneGroupOut has a bigger test error than HGBDT with ShuffleSplit by 5.367504740249601 Watts.\n"
     ]
    }
   ],
   "source": [
    "print(\n",
    "    \"HGBDT with LeaveOneGroupOut has a bigger test error than HGBDT with ShuffleSplit by \"\n",
    "    f\"{errors_LOGO_hgbdt.mean() - errors_SS_hgbdt.mean()}\"\n",
    "    \" Watts.\"\n",
    ")"
   ]
  },
  {
   "cell_type": "code",
   "execution_count": 130,
   "metadata": {},
   "outputs": [],
   "source": [
    "cv = LeaveOneGroupOut()\n",
    "train_indices, test_indices = list(cv.split(data, target, groups=groups))[0]\n",
    "\n",
    "data_linear_model_train = data_linear_model.iloc[train_indices]\n",
    "data_linear_model_test = data_linear_model.iloc[test_indices]\n",
    "\n",
    "data_train = data.iloc[train_indices]\n",
    "data_test = data.iloc[test_indices]\n",
    "\n",
    "target_train = target.iloc[train_indices]\n",
    "target_test = target.iloc[test_indices]"
   ]
  },
  {
   "cell_type": "code",
   "execution_count": null,
   "metadata": {},
   "outputs": [],
   "source": [
    "import matplotlib.pyplot as plt\n"
   ]
  }
 ],
 "metadata": {
  "kernelspec": {
   "display_name": "Python 3 (ipykernel)",
   "language": "python",
   "name": "python3"
  },
  "language_info": {
   "codemirror_mode": {
    "name": "ipython",
    "version": 3
   },
   "file_extension": ".py",
   "mimetype": "text/x-python",
   "name": "python",
   "nbconvert_exporter": "python",
   "pygments_lexer": "ipython3",
   "version": "3.9.10"
  }
 },
 "nbformat": 4,
 "nbformat_minor": 4
}
