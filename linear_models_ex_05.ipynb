{
 "cells": [
  {
   "cell_type": "markdown",
   "id": "3e6d8e8c",
   "metadata": {},
   "source": [
    "# 📝 Exercise M4.05\n",
    "In the previous notebook we set `penalty=\"none\"` to disable regularization\n",
    "entirely. This parameter can also control the **type** of regularization to use,\n",
    "whereas the regularization **strength** is set using the parameter `C`.\n",
    "Setting`penalty=\"none\"` is equivalent to an infinitely large value of `C`.\n",
    "In this exercise, we ask you to train a logistic regression classifier using the\n",
    "`penalty=\"l2\"` regularization (which happens to be the default in scikit-learn)\n",
    "to find by yourself the effect of the parameter `C`.\n",
    "\n",
    "We will start by loading the dataset and create the helper function to show\n",
    "the decision separation as in the previous code."
   ]
  },
  {
   "cell_type": "markdown",
   "id": "85d9b10d",
   "metadata": {},
   "source": [
    "<div class=\"admonition note alert alert-info\">\n",
    "<p class=\"first admonition-title\" style=\"font-weight: bold;\">Note</p>\n",
    "<p class=\"last\">If you want a deeper overview regarding this dataset, you can refer to the\n",
    "Appendix - Datasets description section at the end of this MOOC.</p>\n",
    "</div>"
   ]
  },
  {
   "cell_type": "code",
   "execution_count": 4,
   "id": "af51d047",
   "metadata": {},
   "outputs": [],
   "source": [
    "import pandas as pd\n",
    "\n",
    "penguins = pd.read_csv(\"../datasets/penguins_classification.csv\")\n",
    "# only keep the Adelie and Chinstrap classes\n",
    "penguins = penguins.set_index(\"Species\").loc[\n",
    "    [\"Adelie\", \"Chinstrap\"]].reset_index()\n",
    "\n",
    "culmen_columns = [\"Culmen Length (mm)\", \"Culmen Depth (mm)\"]\n",
    "target_column = \"Species\""
   ]
  },
  {
   "cell_type": "code",
   "execution_count": 5,
   "id": "f169aa9b",
   "metadata": {},
   "outputs": [],
   "source": [
    "from sklearn.model_selection import train_test_split\n",
    "\n",
    "penguins_train, penguins_test = train_test_split(penguins, random_state=0)\n",
    "\n",
    "data_train = penguins_train[culmen_columns]\n",
    "data_test = penguins_test[culmen_columns]\n",
    "\n",
    "target_train = penguins_train[target_column]\n",
    "target_test = penguins_test[target_column]"
   ]
  },
  {
   "cell_type": "markdown",
   "id": "bf514a36",
   "metadata": {},
   "source": [
    "First, let's create our predictive model."
   ]
  },
  {
   "cell_type": "code",
   "execution_count": 6,
   "id": "e73e3a8b",
   "metadata": {},
   "outputs": [],
   "source": [
    "from sklearn.pipeline import make_pipeline\n",
    "from sklearn.preprocessing import StandardScaler\n",
    "from sklearn.linear_model import LogisticRegression\n",
    "\n",
    "logistic_regression = make_pipeline(\n",
    "    StandardScaler(), LogisticRegression(penalty=\"l2\"))"
   ]
  },
  {
   "cell_type": "markdown",
   "id": "0d783eef",
   "metadata": {},
   "source": [
    "Given the following candidates for the `C` parameter, find out the impact of\n",
    "`C` on the classifier decision boundary. You can import the helper class with\n",
    "`from helpers.plotting import DecisionBoundaryDisplay` to plot the decision\n",
    "function boundary. Use the method `from_estimator` from this class."
   ]
  },
  {
   "cell_type": "code",
   "execution_count": 7,
   "id": "c23bd1b4",
   "metadata": {},
   "outputs": [],
   "source": [
    "Cs = [0.01, 0.1, 1, 10]\n",
    "\n",
    "# Write your code here."
   ]
  },
  {
   "cell_type": "markdown",
   "id": "4840dc23",
   "metadata": {},
   "source": [
    "Look at the impact of the `C` hyperparameter on the magnitude of the weights."
   ]
  },
  {
   "cell_type": "code",
   "execution_count": null,
   "id": "a323b5de",
   "metadata": {},
   "outputs": [],
   "source": [
    "# Write your code here."
   ]
  }
 ],
 "metadata": {
  "jupytext": {
   "cell_metadata_filter": "-all",
   "encoding": "# -*- coding: utf-8 -*-",
   "main_language": "python",
   "notebook_metadata_filter": "-all"
  },
  "kernelspec": {
   "display_name": "Python 3 (ipykernel)",
   "language": "python",
   "name": "python3"
  },
  "language_info": {
   "codemirror_mode": {
    "name": "ipython",
    "version": 3
   },
   "file_extension": ".py",
   "mimetype": "text/x-python",
   "name": "python",
   "nbconvert_exporter": "python",
   "pygments_lexer": "ipython3",
   "version": "3.9.10"
  },
  "nbreset": "https://github.com/INRIA/scikit-learn-mooc/raw/main/notebooks/linear_models_ex_05.ipynb"
 },
 "nbformat": 4,
 "nbformat_minor": 5
}
