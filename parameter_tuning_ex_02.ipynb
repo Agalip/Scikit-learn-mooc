{
 "cells": [
  {
   "cell_type": "markdown",
   "id": "c8be04b9",
   "metadata": {},
   "source": [
    "# 📝 Exercise M3.01\n",
    "\n",
    "The goal is to write an exhaustive search to find the best parameters\n",
    "combination maximizing the model generalization performance.\n",
    "\n",
    "Here we use a small subset of the Adult Census dataset to make the code\n",
    "faster to execute. Once your code works on the small subset, try to\n",
    "change `train_size` to a larger value (e.g. 0.8 for 80% instead of\n",
    "20%)."
   ]
  },
  {
   "cell_type": "code",
   "execution_count": 14,
   "id": "24bf0bda",
   "metadata": {},
   "outputs": [],
   "source": [
    "import pandas as pd\n",
    "\n",
    "from sklearn.model_selection import train_test_split\n",
    "\n",
    "adult_census = pd.read_csv(\"../datasets/adult-census.csv\")\n",
    "\n",
    "target_name = \"class\"\n",
    "target = adult_census[target_name]\n",
    "data = adult_census.drop(columns=[target_name, \"education-num\"])\n",
    "\n",
    "data_train, data_test, target_train, target_test = train_test_split(\n",
    "    data, target, train_size=0.8, random_state=42)"
   ]
  },
  {
   "cell_type": "code",
   "execution_count": 15,
   "id": "4d67629e",
   "metadata": {},
   "outputs": [],
   "source": [
    "from sklearn.compose import ColumnTransformer\n",
    "from sklearn.compose import make_column_selector as selector\n",
    "from sklearn.preprocessing import OrdinalEncoder\n",
    "\n",
    "categorical_preprocessor = OrdinalEncoder(handle_unknown=\"use_encoded_value\",\n",
    "                                          unknown_value=-1)\n",
    "preprocessor = ColumnTransformer(\n",
    "    [('cat_preprocessor', categorical_preprocessor,\n",
    "      selector(dtype_include=object))],\n",
    "    remainder='passthrough', sparse_threshold=0)\n",
    "\n",
    "from sklearn.ensemble import HistGradientBoostingClassifier\n",
    "from sklearn.pipeline import Pipeline\n",
    "\n",
    "model = Pipeline([\n",
    "    (\"preprocessor\", preprocessor),\n",
    "    (\"classifier\", HistGradientBoostingClassifier(random_state=42))\n",
    "])"
   ]
  },
  {
   "cell_type": "markdown",
   "id": "8ccc9b0f",
   "metadata": {},
   "source": [
    "\n",
    "Use the previously defined model (called `model`) and using two nested `for`\n",
    "loops, make a search of the best combinations of the `learning_rate` and\n",
    "`max_leaf_nodes` parameters. In this regard, you will need to train and test\n",
    "the model by setting the parameters. The evaluation of the model should be\n",
    "performed using `cross_val_score` on the training set. We will use the\n",
    "following parameters search:\n",
    "- `learning_rate` for the values 0.01, 0.1, 1 and 10. This parameter controls\n",
    "  the ability of a new tree to correct the error of the previous sequence of\n",
    "  trees\n",
    "- `max_leaf_nodes` for the values 3, 10, 30. This parameter controls the\n",
    "  depth of each tree."
   ]
  },
  {
   "cell_type": "code",
   "execution_count": 16,
   "id": "94feb20b",
   "metadata": {},
   "outputs": [
    {
     "name": "stdout",
     "output_type": "stream",
     "text": [
      "lr = 0.01 \t ml = 3 \t score = 0.8\n",
      "\n",
      "lr = 0.01 \t ml = 10 \t score = 0.82\n",
      "\n",
      "lr = 0.01 \t ml = 30 \t score = 0.85\n",
      "\n",
      "lr = 0.1 \t ml = 3 \t score = 0.85\n",
      "\n",
      "lr = 0.1 \t ml = 10 \t score = 0.87\n",
      "\n",
      "lr = 0.1 \t ml = 30 \t score = 0.87\n",
      "\n"
     ]
    }
   ],
   "source": [
    "# Write your code here.\n",
    "from sklearn.model_selection import cross_val_score\n",
    "import numpy as np\n",
    "my_learning_rate = [0.01, 0.1, 1, 10]\n",
    "my_max_leaf_nodes = [3, 10, 30]\n",
    "\n",
    "high_score = 0.0\n",
    "for lr in my_learning_rate:\n",
    "    model.set_params(classifier__learning_rate = lr)\n",
    "    for ml in my_max_leaf_nodes:\n",
    "        model.set_params(classifier__max_leaf_nodes = ml)\n",
    "        \n",
    "        cv_results = cross_val_score(estimator=model, X=data_train, y=target_train, n_jobs=2)\n",
    "        if cv_results.mean() > high_score:\n",
    "            high_score = cv_results.mean()\n",
    "            print(f\"lr = {lr} \\t ml = {ml} \\t score = {cv_results.mean():.2}\\n\")\n"
   ]
  },
  {
   "cell_type": "markdown",
   "id": "454a6ffe",
   "metadata": {},
   "source": [
    "Now use the test set to score the model using the best parameters that we found using cross-validation in the training set."
   ]
  },
  {
   "cell_type": "code",
   "execution_count": 17,
   "id": "2f30ec69",
   "metadata": {},
   "outputs": [
    {
     "name": "stdout",
     "output_type": "stream",
     "text": [
      "accuracy is 0.88\n"
     ]
    }
   ],
   "source": [
    "# Write your code here.\n",
    "best_lr, best_ml = 0.1, 10\n",
    "model.set_params(classifier__learning_rate = best_lr,\n",
    "                 classifier__max_leaf_nodes = best_ml)\n",
    "model.fit(data_train, target_train)\n",
    "score = model.score(X=data_test, y=target_test)\n",
    "print(f\"accuracy is {score:.2f}\")"
   ]
  },
  {
   "cell_type": "code",
   "execution_count": null,
   "id": "0d3601ab",
   "metadata": {},
   "outputs": [],
   "source": []
  }
 ],
 "metadata": {
  "jupytext": {
   "encoding": "# -*- coding: utf-8 -*-"
  },
  "kernelspec": {
   "display_name": "Python 3 (ipykernel)",
   "language": "python",
   "name": "python3"
  },
  "language_info": {
   "codemirror_mode": {
    "name": "ipython",
    "version": 3
   },
   "file_extension": ".py",
   "mimetype": "text/x-python",
   "name": "python",
   "nbconvert_exporter": "python",
   "pygments_lexer": "ipython3",
   "version": "3.9.10"
  },
  "nbreset": "https://github.com/INRIA/scikit-learn-mooc/raw/main/notebooks/parameter_tuning_ex_02.ipynb"
 },
 "nbformat": 4,
 "nbformat_minor": 5
}
