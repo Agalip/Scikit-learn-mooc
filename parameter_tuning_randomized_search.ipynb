{
 "cells": [
  {
   "cell_type": "markdown",
   "id": "8d8ad8ff",
   "metadata": {},
   "source": [
    "# Hyperparameter tuning by randomized-search\n",
    "\n",
    "In the previous notebook, we showed how to use a grid-search approach to\n",
    "search for the best hyperparameters maximizing the generalization performance\n",
    "of a predictive model.\n",
    "\n",
    "However, a grid-search approach has limitations. It does not scale when\n",
    "the number of parameters to tune is increasing. Also, the grid will impose\n",
    "a regularity during the search which might be problematic.\n",
    "\n",
    "In this notebook, we will present another method to tune hyperparameters\n",
    "called randomized search."
   ]
  },
  {
   "cell_type": "markdown",
   "id": "f50708d9",
   "metadata": {},
   "source": [
    "## Our predictive model\n",
    "\n",
    "Let us reload the dataset as we did previously:"
   ]
  },
  {
   "cell_type": "code",
   "execution_count": 18,
   "id": "715c335d",
   "metadata": {},
   "outputs": [],
   "source": [
    "from sklearn import set_config\n",
    "\n",
    "set_config(display=\"diagram\")"
   ]
  },
  {
   "cell_type": "code",
   "execution_count": 2,
   "id": "3ae113a8",
   "metadata": {},
   "outputs": [],
   "source": [
    "import pandas as pd\n",
    "\n",
    "adult_census = pd.read_csv(\"../datasets/adult-census.csv\")"
   ]
  },
  {
   "cell_type": "markdown",
   "id": "75071af7",
   "metadata": {},
   "source": [
    "We extract the column containing the target."
   ]
  },
  {
   "cell_type": "code",
   "execution_count": 3,
   "id": "b98a1d6e",
   "metadata": {},
   "outputs": [
    {
     "data": {
      "text/plain": [
       "0         <=50K\n",
       "1         <=50K\n",
       "2          >50K\n",
       "3          >50K\n",
       "4         <=50K\n",
       "          ...  \n",
       "48837     <=50K\n",
       "48838      >50K\n",
       "48839     <=50K\n",
       "48840     <=50K\n",
       "48841      >50K\n",
       "Name: class, Length: 48842, dtype: object"
      ]
     },
     "execution_count": 3,
     "metadata": {},
     "output_type": "execute_result"
    }
   ],
   "source": [
    "target_name = \"class\"\n",
    "target = adult_census[target_name]\n",
    "target"
   ]
  },
  {
   "cell_type": "markdown",
   "id": "e3b67f02",
   "metadata": {},
   "source": [
    "We drop from our data the target and the `\"education-num\"` column which\n",
    "duplicates the information with `\"education\"` columns."
   ]
  },
  {
   "cell_type": "code",
   "execution_count": 4,
   "id": "1744738a",
   "metadata": {},
   "outputs": [
    {
     "data": {
      "text/html": [
       "<div>\n",
       "<style scoped>\n",
       "    .dataframe tbody tr th:only-of-type {\n",
       "        vertical-align: middle;\n",
       "    }\n",
       "\n",
       "    .dataframe tbody tr th {\n",
       "        vertical-align: top;\n",
       "    }\n",
       "\n",
       "    .dataframe thead th {\n",
       "        text-align: right;\n",
       "    }\n",
       "</style>\n",
       "<table border=\"1\" class=\"dataframe\">\n",
       "  <thead>\n",
       "    <tr style=\"text-align: right;\">\n",
       "      <th></th>\n",
       "      <th>age</th>\n",
       "      <th>workclass</th>\n",
       "      <th>education</th>\n",
       "      <th>marital-status</th>\n",
       "      <th>occupation</th>\n",
       "      <th>relationship</th>\n",
       "      <th>race</th>\n",
       "      <th>sex</th>\n",
       "      <th>capital-gain</th>\n",
       "      <th>capital-loss</th>\n",
       "      <th>hours-per-week</th>\n",
       "      <th>native-country</th>\n",
       "    </tr>\n",
       "  </thead>\n",
       "  <tbody>\n",
       "    <tr>\n",
       "      <th>0</th>\n",
       "      <td>25</td>\n",
       "      <td>Private</td>\n",
       "      <td>11th</td>\n",
       "      <td>Never-married</td>\n",
       "      <td>Machine-op-inspct</td>\n",
       "      <td>Own-child</td>\n",
       "      <td>Black</td>\n",
       "      <td>Male</td>\n",
       "      <td>0</td>\n",
       "      <td>0</td>\n",
       "      <td>40</td>\n",
       "      <td>United-States</td>\n",
       "    </tr>\n",
       "    <tr>\n",
       "      <th>1</th>\n",
       "      <td>38</td>\n",
       "      <td>Private</td>\n",
       "      <td>HS-grad</td>\n",
       "      <td>Married-civ-spouse</td>\n",
       "      <td>Farming-fishing</td>\n",
       "      <td>Husband</td>\n",
       "      <td>White</td>\n",
       "      <td>Male</td>\n",
       "      <td>0</td>\n",
       "      <td>0</td>\n",
       "      <td>50</td>\n",
       "      <td>United-States</td>\n",
       "    </tr>\n",
       "    <tr>\n",
       "      <th>2</th>\n",
       "      <td>28</td>\n",
       "      <td>Local-gov</td>\n",
       "      <td>Assoc-acdm</td>\n",
       "      <td>Married-civ-spouse</td>\n",
       "      <td>Protective-serv</td>\n",
       "      <td>Husband</td>\n",
       "      <td>White</td>\n",
       "      <td>Male</td>\n",
       "      <td>0</td>\n",
       "      <td>0</td>\n",
       "      <td>40</td>\n",
       "      <td>United-States</td>\n",
       "    </tr>\n",
       "    <tr>\n",
       "      <th>3</th>\n",
       "      <td>44</td>\n",
       "      <td>Private</td>\n",
       "      <td>Some-college</td>\n",
       "      <td>Married-civ-spouse</td>\n",
       "      <td>Machine-op-inspct</td>\n",
       "      <td>Husband</td>\n",
       "      <td>Black</td>\n",
       "      <td>Male</td>\n",
       "      <td>7688</td>\n",
       "      <td>0</td>\n",
       "      <td>40</td>\n",
       "      <td>United-States</td>\n",
       "    </tr>\n",
       "    <tr>\n",
       "      <th>4</th>\n",
       "      <td>18</td>\n",
       "      <td>?</td>\n",
       "      <td>Some-college</td>\n",
       "      <td>Never-married</td>\n",
       "      <td>?</td>\n",
       "      <td>Own-child</td>\n",
       "      <td>White</td>\n",
       "      <td>Female</td>\n",
       "      <td>0</td>\n",
       "      <td>0</td>\n",
       "      <td>30</td>\n",
       "      <td>United-States</td>\n",
       "    </tr>\n",
       "  </tbody>\n",
       "</table>\n",
       "</div>"
      ],
      "text/plain": [
       "   age   workclass      education       marital-status          occupation  \\\n",
       "0   25     Private           11th        Never-married   Machine-op-inspct   \n",
       "1   38     Private        HS-grad   Married-civ-spouse     Farming-fishing   \n",
       "2   28   Local-gov     Assoc-acdm   Married-civ-spouse     Protective-serv   \n",
       "3   44     Private   Some-college   Married-civ-spouse   Machine-op-inspct   \n",
       "4   18           ?   Some-college        Never-married                   ?   \n",
       "\n",
       "  relationship    race      sex  capital-gain  capital-loss  hours-per-week  \\\n",
       "0    Own-child   Black     Male             0             0              40   \n",
       "1      Husband   White     Male             0             0              50   \n",
       "2      Husband   White     Male             0             0              40   \n",
       "3      Husband   Black     Male          7688             0              40   \n",
       "4    Own-child   White   Female             0             0              30   \n",
       "\n",
       "   native-country  \n",
       "0   United-States  \n",
       "1   United-States  \n",
       "2   United-States  \n",
       "3   United-States  \n",
       "4   United-States  "
      ]
     },
     "execution_count": 4,
     "metadata": {},
     "output_type": "execute_result"
    }
   ],
   "source": [
    "data = adult_census.drop(columns=[target_name, \"education-num\"])\n",
    "data.head()"
   ]
  },
  {
   "cell_type": "markdown",
   "id": "47c08ddf",
   "metadata": {},
   "source": [
    "Once the dataset is loaded, we split it into a training and testing sets."
   ]
  },
  {
   "cell_type": "code",
   "execution_count": 5,
   "id": "e43ed67b",
   "metadata": {},
   "outputs": [],
   "source": [
    "from sklearn.model_selection import train_test_split\n",
    "\n",
    "data_train, data_test, target_train, target_test = train_test_split(\n",
    "    data, target, random_state=42)"
   ]
  },
  {
   "cell_type": "markdown",
   "id": "d08af8b4",
   "metadata": {},
   "source": [
    "We will create the same predictive pipeline as seen in the grid-search\n",
    "section."
   ]
  },
  {
   "cell_type": "code",
   "execution_count": 6,
   "id": "9ce32842",
   "metadata": {},
   "outputs": [],
   "source": [
    "from sklearn.compose import ColumnTransformer\n",
    "from sklearn.preprocessing import OrdinalEncoder\n",
    "from sklearn.compose import make_column_selector as selector\n",
    "\n",
    "categorical_columns_selector = selector(dtype_include=object)\n",
    "categorical_columns = categorical_columns_selector(data)\n",
    "\n",
    "categorical_preprocessor = OrdinalEncoder(handle_unknown=\"use_encoded_value\",\n",
    "                                          unknown_value=-1)\n",
    "preprocessor = ColumnTransformer([\n",
    "    ('cat_preprocessor', categorical_preprocessor, categorical_columns)],\n",
    "    remainder='passthrough', sparse_threshold=0)"
   ]
  },
  {
   "cell_type": "code",
   "execution_count": 7,
   "id": "2d56c2e5",
   "metadata": {},
   "outputs": [
    {
     "data": {
      "text/html": [
       "<style>#sk-4f90bd67-ed79-4c93-bc34-b425ae4333f8 {color: black;background-color: white;}#sk-4f90bd67-ed79-4c93-bc34-b425ae4333f8 pre{padding: 0;}#sk-4f90bd67-ed79-4c93-bc34-b425ae4333f8 div.sk-toggleable {background-color: white;}#sk-4f90bd67-ed79-4c93-bc34-b425ae4333f8 label.sk-toggleable__label {cursor: pointer;display: block;width: 100%;margin-bottom: 0;padding: 0.3em;box-sizing: border-box;text-align: center;}#sk-4f90bd67-ed79-4c93-bc34-b425ae4333f8 label.sk-toggleable__label-arrow:before {content: \"▸\";float: left;margin-right: 0.25em;color: #696969;}#sk-4f90bd67-ed79-4c93-bc34-b425ae4333f8 label.sk-toggleable__label-arrow:hover:before {color: black;}#sk-4f90bd67-ed79-4c93-bc34-b425ae4333f8 div.sk-estimator:hover label.sk-toggleable__label-arrow:before {color: black;}#sk-4f90bd67-ed79-4c93-bc34-b425ae4333f8 div.sk-toggleable__content {max-height: 0;max-width: 0;overflow: hidden;text-align: left;background-color: #f0f8ff;}#sk-4f90bd67-ed79-4c93-bc34-b425ae4333f8 div.sk-toggleable__content pre {margin: 0.2em;color: black;border-radius: 0.25em;background-color: #f0f8ff;}#sk-4f90bd67-ed79-4c93-bc34-b425ae4333f8 input.sk-toggleable__control:checked~div.sk-toggleable__content {max-height: 200px;max-width: 100%;overflow: auto;}#sk-4f90bd67-ed79-4c93-bc34-b425ae4333f8 input.sk-toggleable__control:checked~label.sk-toggleable__label-arrow:before {content: \"▾\";}#sk-4f90bd67-ed79-4c93-bc34-b425ae4333f8 div.sk-estimator input.sk-toggleable__control:checked~label.sk-toggleable__label {background-color: #d4ebff;}#sk-4f90bd67-ed79-4c93-bc34-b425ae4333f8 div.sk-label input.sk-toggleable__control:checked~label.sk-toggleable__label {background-color: #d4ebff;}#sk-4f90bd67-ed79-4c93-bc34-b425ae4333f8 input.sk-hidden--visually {border: 0;clip: rect(1px 1px 1px 1px);clip: rect(1px, 1px, 1px, 1px);height: 1px;margin: -1px;overflow: hidden;padding: 0;position: absolute;width: 1px;}#sk-4f90bd67-ed79-4c93-bc34-b425ae4333f8 div.sk-estimator {font-family: monospace;background-color: #f0f8ff;border: 1px dotted black;border-radius: 0.25em;box-sizing: border-box;margin-bottom: 0.5em;}#sk-4f90bd67-ed79-4c93-bc34-b425ae4333f8 div.sk-estimator:hover {background-color: #d4ebff;}#sk-4f90bd67-ed79-4c93-bc34-b425ae4333f8 div.sk-parallel-item::after {content: \"\";width: 100%;border-bottom: 1px solid gray;flex-grow: 1;}#sk-4f90bd67-ed79-4c93-bc34-b425ae4333f8 div.sk-label:hover label.sk-toggleable__label {background-color: #d4ebff;}#sk-4f90bd67-ed79-4c93-bc34-b425ae4333f8 div.sk-serial::before {content: \"\";position: absolute;border-left: 1px solid gray;box-sizing: border-box;top: 2em;bottom: 0;left: 50%;}#sk-4f90bd67-ed79-4c93-bc34-b425ae4333f8 div.sk-serial {display: flex;flex-direction: column;align-items: center;background-color: white;padding-right: 0.2em;padding-left: 0.2em;}#sk-4f90bd67-ed79-4c93-bc34-b425ae4333f8 div.sk-item {z-index: 1;}#sk-4f90bd67-ed79-4c93-bc34-b425ae4333f8 div.sk-parallel {display: flex;align-items: stretch;justify-content: center;background-color: white;}#sk-4f90bd67-ed79-4c93-bc34-b425ae4333f8 div.sk-parallel::before {content: \"\";position: absolute;border-left: 1px solid gray;box-sizing: border-box;top: 2em;bottom: 0;left: 50%;}#sk-4f90bd67-ed79-4c93-bc34-b425ae4333f8 div.sk-parallel-item {display: flex;flex-direction: column;position: relative;background-color: white;}#sk-4f90bd67-ed79-4c93-bc34-b425ae4333f8 div.sk-parallel-item:first-child::after {align-self: flex-end;width: 50%;}#sk-4f90bd67-ed79-4c93-bc34-b425ae4333f8 div.sk-parallel-item:last-child::after {align-self: flex-start;width: 50%;}#sk-4f90bd67-ed79-4c93-bc34-b425ae4333f8 div.sk-parallel-item:only-child::after {width: 0;}#sk-4f90bd67-ed79-4c93-bc34-b425ae4333f8 div.sk-dashed-wrapped {border: 1px dashed gray;margin: 0 0.4em 0.5em 0.4em;box-sizing: border-box;padding-bottom: 0.4em;background-color: white;position: relative;}#sk-4f90bd67-ed79-4c93-bc34-b425ae4333f8 div.sk-label label {font-family: monospace;font-weight: bold;background-color: white;display: inline-block;line-height: 1.2em;}#sk-4f90bd67-ed79-4c93-bc34-b425ae4333f8 div.sk-label-container {position: relative;z-index: 2;text-align: center;}#sk-4f90bd67-ed79-4c93-bc34-b425ae4333f8 div.sk-container {/* jupyter's `normalize.less` sets `[hidden] { display: none; }` but bootstrap.min.css set `[hidden] { display: none !important; }` so we also need the `!important` here to be able to override the default hidden behavior on the sphinx rendered scikit-learn.org. See: https://github.com/scikit-learn/scikit-learn/issues/21755 */display: inline-block !important;position: relative;}#sk-4f90bd67-ed79-4c93-bc34-b425ae4333f8 div.sk-text-repr-fallback {display: none;}</style><div id=\"sk-4f90bd67-ed79-4c93-bc34-b425ae4333f8\" class=\"sk-top-container\"><div class=\"sk-text-repr-fallback\"><pre>Pipeline(steps=[(&#x27;preprocessor&#x27;,\n",
       "                 ColumnTransformer(remainder=&#x27;passthrough&#x27;, sparse_threshold=0,\n",
       "                                   transformers=[(&#x27;cat_preprocessor&#x27;,\n",
       "                                                  OrdinalEncoder(handle_unknown=&#x27;use_encoded_value&#x27;,\n",
       "                                                                 unknown_value=-1),\n",
       "                                                  [&#x27;workclass&#x27;, &#x27;education&#x27;,\n",
       "                                                   &#x27;marital-status&#x27;,\n",
       "                                                   &#x27;occupation&#x27;, &#x27;relationship&#x27;,\n",
       "                                                   &#x27;race&#x27;, &#x27;sex&#x27;,\n",
       "                                                   &#x27;native-country&#x27;])])),\n",
       "                (&#x27;classifier&#x27;,\n",
       "                 HistGradientBoostingClassifier(max_leaf_nodes=4,\n",
       "                                                random_state=42))])</pre><b>Please rerun this cell to show the HTML repr or trust the notebook.</b></div><div class=\"sk-container\" hidden><div class=\"sk-item sk-dashed-wrapped\"><div class=\"sk-label-container\"><div class=\"sk-label sk-toggleable\"><input class=\"sk-toggleable__control sk-hidden--visually\" id=\"639873d9-b639-4c2a-a5b8-7d1c95b3e4f4\" type=\"checkbox\" ><label for=\"639873d9-b639-4c2a-a5b8-7d1c95b3e4f4\" class=\"sk-toggleable__label sk-toggleable__label-arrow\">Pipeline</label><div class=\"sk-toggleable__content\"><pre>Pipeline(steps=[(&#x27;preprocessor&#x27;,\n",
       "                 ColumnTransformer(remainder=&#x27;passthrough&#x27;, sparse_threshold=0,\n",
       "                                   transformers=[(&#x27;cat_preprocessor&#x27;,\n",
       "                                                  OrdinalEncoder(handle_unknown=&#x27;use_encoded_value&#x27;,\n",
       "                                                                 unknown_value=-1),\n",
       "                                                  [&#x27;workclass&#x27;, &#x27;education&#x27;,\n",
       "                                                   &#x27;marital-status&#x27;,\n",
       "                                                   &#x27;occupation&#x27;, &#x27;relationship&#x27;,\n",
       "                                                   &#x27;race&#x27;, &#x27;sex&#x27;,\n",
       "                                                   &#x27;native-country&#x27;])])),\n",
       "                (&#x27;classifier&#x27;,\n",
       "                 HistGradientBoostingClassifier(max_leaf_nodes=4,\n",
       "                                                random_state=42))])</pre></div></div></div><div class=\"sk-serial\"><div class=\"sk-item sk-dashed-wrapped\"><div class=\"sk-label-container\"><div class=\"sk-label sk-toggleable\"><input class=\"sk-toggleable__control sk-hidden--visually\" id=\"f6241a74-8ab0-4481-9f2a-d4221a1f21d5\" type=\"checkbox\" ><label for=\"f6241a74-8ab0-4481-9f2a-d4221a1f21d5\" class=\"sk-toggleable__label sk-toggleable__label-arrow\">preprocessor: ColumnTransformer</label><div class=\"sk-toggleable__content\"><pre>ColumnTransformer(remainder=&#x27;passthrough&#x27;, sparse_threshold=0,\n",
       "                  transformers=[(&#x27;cat_preprocessor&#x27;,\n",
       "                                 OrdinalEncoder(handle_unknown=&#x27;use_encoded_value&#x27;,\n",
       "                                                unknown_value=-1),\n",
       "                                 [&#x27;workclass&#x27;, &#x27;education&#x27;, &#x27;marital-status&#x27;,\n",
       "                                  &#x27;occupation&#x27;, &#x27;relationship&#x27;, &#x27;race&#x27;, &#x27;sex&#x27;,\n",
       "                                  &#x27;native-country&#x27;])])</pre></div></div></div><div class=\"sk-parallel\"><div class=\"sk-parallel-item\"><div class=\"sk-item\"><div class=\"sk-label-container\"><div class=\"sk-label sk-toggleable\"><input class=\"sk-toggleable__control sk-hidden--visually\" id=\"a55bbb34-6be9-4ff2-9612-7055a064d417\" type=\"checkbox\" ><label for=\"a55bbb34-6be9-4ff2-9612-7055a064d417\" class=\"sk-toggleable__label sk-toggleable__label-arrow\">cat_preprocessor</label><div class=\"sk-toggleable__content\"><pre>[&#x27;workclass&#x27;, &#x27;education&#x27;, &#x27;marital-status&#x27;, &#x27;occupation&#x27;, &#x27;relationship&#x27;, &#x27;race&#x27;, &#x27;sex&#x27;, &#x27;native-country&#x27;]</pre></div></div></div><div class=\"sk-serial\"><div class=\"sk-item\"><div class=\"sk-estimator sk-toggleable\"><input class=\"sk-toggleable__control sk-hidden--visually\" id=\"1c6a3286-dc12-4b0d-8d51-dcbece418832\" type=\"checkbox\" ><label for=\"1c6a3286-dc12-4b0d-8d51-dcbece418832\" class=\"sk-toggleable__label sk-toggleable__label-arrow\">OrdinalEncoder</label><div class=\"sk-toggleable__content\"><pre>OrdinalEncoder(handle_unknown=&#x27;use_encoded_value&#x27;, unknown_value=-1)</pre></div></div></div></div></div></div><div class=\"sk-parallel-item\"><div class=\"sk-item\"><div class=\"sk-label-container\"><div class=\"sk-label sk-toggleable\"><input class=\"sk-toggleable__control sk-hidden--visually\" id=\"0467d035-4e06-441b-9101-e6fbbfe5b166\" type=\"checkbox\" ><label for=\"0467d035-4e06-441b-9101-e6fbbfe5b166\" class=\"sk-toggleable__label sk-toggleable__label-arrow\">remainder</label><div class=\"sk-toggleable__content\"><pre></pre></div></div></div><div class=\"sk-serial\"><div class=\"sk-item\"><div class=\"sk-estimator sk-toggleable\"><input class=\"sk-toggleable__control sk-hidden--visually\" id=\"ed3bf4d8-5f0e-455a-b3b0-bab6d269154b\" type=\"checkbox\" ><label for=\"ed3bf4d8-5f0e-455a-b3b0-bab6d269154b\" class=\"sk-toggleable__label sk-toggleable__label-arrow\">passthrough</label><div class=\"sk-toggleable__content\"><pre>passthrough</pre></div></div></div></div></div></div></div></div><div class=\"sk-item\"><div class=\"sk-estimator sk-toggleable\"><input class=\"sk-toggleable__control sk-hidden--visually\" id=\"dedb694f-f406-4ee5-bfec-b65cf455e2bd\" type=\"checkbox\" ><label for=\"dedb694f-f406-4ee5-bfec-b65cf455e2bd\" class=\"sk-toggleable__label sk-toggleable__label-arrow\">HistGradientBoostingClassifier</label><div class=\"sk-toggleable__content\"><pre>HistGradientBoostingClassifier(max_leaf_nodes=4, random_state=42)</pre></div></div></div></div></div></div></div>"
      ],
      "text/plain": [
       "Pipeline(steps=[('preprocessor',\n",
       "                 ColumnTransformer(remainder='passthrough', sparse_threshold=0,\n",
       "                                   transformers=[('cat_preprocessor',\n",
       "                                                  OrdinalEncoder(handle_unknown='use_encoded_value',\n",
       "                                                                 unknown_value=-1),\n",
       "                                                  ['workclass', 'education',\n",
       "                                                   'marital-status',\n",
       "                                                   'occupation', 'relationship',\n",
       "                                                   'race', 'sex',\n",
       "                                                   'native-country'])])),\n",
       "                ('classifier',\n",
       "                 HistGradientBoostingClassifier(max_leaf_nodes=4,\n",
       "                                                random_state=42))])"
      ]
     },
     "execution_count": 7,
     "metadata": {},
     "output_type": "execute_result"
    }
   ],
   "source": [
    "from sklearn.ensemble import HistGradientBoostingClassifier\n",
    "from sklearn.pipeline import Pipeline\n",
    "\n",
    "model = Pipeline([\n",
    "    (\"preprocessor\", preprocessor),\n",
    "    (\"classifier\", HistGradientBoostingClassifier(random_state=42, max_leaf_nodes=4)),\n",
    "])\n",
    "\n",
    "model"
   ]
  },
  {
   "cell_type": "markdown",
   "id": "c80524d5",
   "metadata": {},
   "source": [
    "## Tuning using a randomized-search\n",
    "\n",
    "With the `GridSearchCV` estimator, the parameters need to be specified\n",
    "explicitly. We already mentioned that exploring a large number of values for\n",
    "different parameters will be quickly untractable.\n",
    "\n",
    "Instead, we can randomly generate the parameter candidates. Indeed,\n",
    "such approach avoids the regularity of the grid. Hence, adding more\n",
    "evaluations can increase the resolution in each direction. This is the\n",
    "case in the frequent situation where the choice of some hyperparameters\n",
    "is not very important, as for hyperparameter 2 in the figure below.\n",
    "\n",
    "![Randomized vs grid search](../figures/grid_vs_random_search.svg)\n",
    "\n",
    "Indeed, the number of evaluation points need to be divided across the\n",
    "two different hyperparameters. With a grid, the danger is that the\n",
    "region of good hyperparameters fall between the line of the grid: this\n",
    "region is aligned with the grid given that hyperparameter 2 has a weak\n",
    "influence. Rather, stochastic search will sample hyperparameter 1\n",
    "independently from hyperparameter 2 and find the optimal region.\n",
    "\n",
    "The `RandomizedSearchCV` class allows for such stochastic search. It is\n",
    "used similarly to the `GridSearchCV` but the sampling distributions\n",
    "need to be specified instead of the parameter values. For instance, we\n",
    "will draw candidates using a log-uniform distribution because the parameters\n",
    "we are interested in take positive values with a natural log scaling (.1 is\n",
    "as close to 1 as 10 is).\n",
    "\n",
    "<div class=\"admonition note alert alert-info\">\n",
    "<p class=\"first admonition-title\" style=\"font-weight: bold;\">Note</p>\n",
    "<p class=\"last\">Random search (with <tt class=\"docutils literal\">RandomizedSearchCV</tt>) is typically beneficial compared\n",
    "to grid search (with <tt class=\"docutils literal\">GridSearchCV</tt>) to optimize 3 or more\n",
    "hyperparameters.</p>\n",
    "</div>\n",
    "\n",
    "We will optimize 3 other parameters in addition to the ones we\n",
    "optimized in the notebook presenting the `GridSearchCV`:\n",
    "\n",
    "* `l2_regularization`: it corresponds to the strength of the regularization;\n",
    "* `min_samples_leaf`: it corresponds to the minimum number of samples\n",
    "  required in a leaf;\n",
    "* `max_bins`: it corresponds to the maximum number of bins to construct the\n",
    "  histograms.\n",
    "\n",
    "We recall the meaning of the 2 remaining parameters:\n",
    "\n",
    "* `learning_rate`: it corresponds to the speed at which the gradient-boosting\n",
    "  will correct the residuals at each boosting iteration;\n",
    "* `max_leaf_nodes`: it corresponds to the maximum number of leaves for each\n",
    "  tree in the ensemble.\n",
    "\n",
    "<div class=\"admonition note alert alert-info\">\n",
    "<p class=\"first admonition-title\" style=\"font-weight: bold;\">Note</p>\n",
    "<p class=\"last\"><tt class=\"docutils literal\">scipy.stats.loguniform</tt> can be used to generate floating numbers. To\n",
    "generate random values for integer-valued parameters (e.g.\n",
    "<tt class=\"docutils literal\">min_samples_leaf</tt>) we can adapt is as follows:</p>\n",
    "</div>"
   ]
  },
  {
   "cell_type": "code",
   "execution_count": 8,
   "id": "652ddb17",
   "metadata": {},
   "outputs": [],
   "source": [
    "from scipy.stats import loguniform\n",
    "\n",
    "\n",
    "class loguniform_int:\n",
    "    \"\"\"Integer valued version of the log-uniform distribution\"\"\"\n",
    "    def __init__(self, a, b):\n",
    "        self._distribution = loguniform(a, b)\n",
    "\n",
    "    def rvs(self, *args, **kwargs):\n",
    "        \"\"\"Random variable sample\"\"\"\n",
    "        return self._distribution.rvs(*args, **kwargs).astype(int)"
   ]
  },
  {
   "cell_type": "markdown",
   "id": "9e89081e",
   "metadata": {},
   "source": [
    "\n",
    "Now, we can define the randomized search using the different distributions.\n",
    "Executing 10 iterations of 5-fold cross-validation for random\n",
    "parametrizations of this model on this dataset can take from 10 seconds to\n",
    "several minutes, depending on the speed of the host computer and the number\n",
    "of available processors."
   ]
  },
  {
   "cell_type": "code",
   "execution_count": 9,
   "id": "50ee4841",
   "metadata": {},
   "outputs": [
    {
     "name": "stdout",
     "output_type": "stream",
     "text": [
      "Fitting 5 folds for each of 10 candidates, totalling 50 fits\n",
      "CPU times: user 1min 37s, sys: 5.23 s, total: 1min 42s\n",
      "Wall time: 29.8 s\n"
     ]
    },
    {
     "data": {
      "text/html": [
       "<style>#sk-cc2e3f8c-10b3-415a-a3d4-b5b72a16a23f {color: black;background-color: white;}#sk-cc2e3f8c-10b3-415a-a3d4-b5b72a16a23f pre{padding: 0;}#sk-cc2e3f8c-10b3-415a-a3d4-b5b72a16a23f div.sk-toggleable {background-color: white;}#sk-cc2e3f8c-10b3-415a-a3d4-b5b72a16a23f label.sk-toggleable__label {cursor: pointer;display: block;width: 100%;margin-bottom: 0;padding: 0.3em;box-sizing: border-box;text-align: center;}#sk-cc2e3f8c-10b3-415a-a3d4-b5b72a16a23f label.sk-toggleable__label-arrow:before {content: \"▸\";float: left;margin-right: 0.25em;color: #696969;}#sk-cc2e3f8c-10b3-415a-a3d4-b5b72a16a23f label.sk-toggleable__label-arrow:hover:before {color: black;}#sk-cc2e3f8c-10b3-415a-a3d4-b5b72a16a23f div.sk-estimator:hover label.sk-toggleable__label-arrow:before {color: black;}#sk-cc2e3f8c-10b3-415a-a3d4-b5b72a16a23f div.sk-toggleable__content {max-height: 0;max-width: 0;overflow: hidden;text-align: left;background-color: #f0f8ff;}#sk-cc2e3f8c-10b3-415a-a3d4-b5b72a16a23f div.sk-toggleable__content pre {margin: 0.2em;color: black;border-radius: 0.25em;background-color: #f0f8ff;}#sk-cc2e3f8c-10b3-415a-a3d4-b5b72a16a23f input.sk-toggleable__control:checked~div.sk-toggleable__content {max-height: 200px;max-width: 100%;overflow: auto;}#sk-cc2e3f8c-10b3-415a-a3d4-b5b72a16a23f input.sk-toggleable__control:checked~label.sk-toggleable__label-arrow:before {content: \"▾\";}#sk-cc2e3f8c-10b3-415a-a3d4-b5b72a16a23f div.sk-estimator input.sk-toggleable__control:checked~label.sk-toggleable__label {background-color: #d4ebff;}#sk-cc2e3f8c-10b3-415a-a3d4-b5b72a16a23f div.sk-label input.sk-toggleable__control:checked~label.sk-toggleable__label {background-color: #d4ebff;}#sk-cc2e3f8c-10b3-415a-a3d4-b5b72a16a23f input.sk-hidden--visually {border: 0;clip: rect(1px 1px 1px 1px);clip: rect(1px, 1px, 1px, 1px);height: 1px;margin: -1px;overflow: hidden;padding: 0;position: absolute;width: 1px;}#sk-cc2e3f8c-10b3-415a-a3d4-b5b72a16a23f div.sk-estimator {font-family: monospace;background-color: #f0f8ff;border: 1px dotted black;border-radius: 0.25em;box-sizing: border-box;margin-bottom: 0.5em;}#sk-cc2e3f8c-10b3-415a-a3d4-b5b72a16a23f div.sk-estimator:hover {background-color: #d4ebff;}#sk-cc2e3f8c-10b3-415a-a3d4-b5b72a16a23f div.sk-parallel-item::after {content: \"\";width: 100%;border-bottom: 1px solid gray;flex-grow: 1;}#sk-cc2e3f8c-10b3-415a-a3d4-b5b72a16a23f div.sk-label:hover label.sk-toggleable__label {background-color: #d4ebff;}#sk-cc2e3f8c-10b3-415a-a3d4-b5b72a16a23f div.sk-serial::before {content: \"\";position: absolute;border-left: 1px solid gray;box-sizing: border-box;top: 2em;bottom: 0;left: 50%;}#sk-cc2e3f8c-10b3-415a-a3d4-b5b72a16a23f div.sk-serial {display: flex;flex-direction: column;align-items: center;background-color: white;padding-right: 0.2em;padding-left: 0.2em;}#sk-cc2e3f8c-10b3-415a-a3d4-b5b72a16a23f div.sk-item {z-index: 1;}#sk-cc2e3f8c-10b3-415a-a3d4-b5b72a16a23f div.sk-parallel {display: flex;align-items: stretch;justify-content: center;background-color: white;}#sk-cc2e3f8c-10b3-415a-a3d4-b5b72a16a23f div.sk-parallel::before {content: \"\";position: absolute;border-left: 1px solid gray;box-sizing: border-box;top: 2em;bottom: 0;left: 50%;}#sk-cc2e3f8c-10b3-415a-a3d4-b5b72a16a23f div.sk-parallel-item {display: flex;flex-direction: column;position: relative;background-color: white;}#sk-cc2e3f8c-10b3-415a-a3d4-b5b72a16a23f div.sk-parallel-item:first-child::after {align-self: flex-end;width: 50%;}#sk-cc2e3f8c-10b3-415a-a3d4-b5b72a16a23f div.sk-parallel-item:last-child::after {align-self: flex-start;width: 50%;}#sk-cc2e3f8c-10b3-415a-a3d4-b5b72a16a23f div.sk-parallel-item:only-child::after {width: 0;}#sk-cc2e3f8c-10b3-415a-a3d4-b5b72a16a23f div.sk-dashed-wrapped {border: 1px dashed gray;margin: 0 0.4em 0.5em 0.4em;box-sizing: border-box;padding-bottom: 0.4em;background-color: white;position: relative;}#sk-cc2e3f8c-10b3-415a-a3d4-b5b72a16a23f div.sk-label label {font-family: monospace;font-weight: bold;background-color: white;display: inline-block;line-height: 1.2em;}#sk-cc2e3f8c-10b3-415a-a3d4-b5b72a16a23f div.sk-label-container {position: relative;z-index: 2;text-align: center;}#sk-cc2e3f8c-10b3-415a-a3d4-b5b72a16a23f div.sk-container {/* jupyter's `normalize.less` sets `[hidden] { display: none; }` but bootstrap.min.css set `[hidden] { display: none !important; }` so we also need the `!important` here to be able to override the default hidden behavior on the sphinx rendered scikit-learn.org. See: https://github.com/scikit-learn/scikit-learn/issues/21755 */display: inline-block !important;position: relative;}#sk-cc2e3f8c-10b3-415a-a3d4-b5b72a16a23f div.sk-text-repr-fallback {display: none;}</style><div id=\"sk-cc2e3f8c-10b3-415a-a3d4-b5b72a16a23f\" class=\"sk-top-container\"><div class=\"sk-text-repr-fallback\"><pre>RandomizedSearchCV(cv=5,\n",
       "                   estimator=Pipeline(steps=[(&#x27;preprocessor&#x27;,\n",
       "                                              ColumnTransformer(remainder=&#x27;passthrough&#x27;,\n",
       "                                                                sparse_threshold=0,\n",
       "                                                                transformers=[(&#x27;cat_preprocessor&#x27;,\n",
       "                                                                               OrdinalEncoder(handle_unknown=&#x27;use_encoded_value&#x27;,\n",
       "                                                                                              unknown_value=-1),\n",
       "                                                                               [&#x27;workclass&#x27;,\n",
       "                                                                                &#x27;education&#x27;,\n",
       "                                                                                &#x27;marital-status&#x27;,\n",
       "                                                                                &#x27;occupation&#x27;,\n",
       "                                                                                &#x27;relationship&#x27;,\n",
       "                                                                                &#x27;race&#x27;,\n",
       "                                                                                &#x27;sex&#x27;,\n",
       "                                                                                &#x27;native-country&#x27;])])),\n",
       "                                             (&#x27;classifier&#x27;,\n",
       "                                              Hi...\n",
       "                   param_distributions={&#x27;classifier__l2_regularization&#x27;: &lt;scipy.stats._distn_infrastructure.rv_frozen object at 0x7f7d0431b400&gt;,\n",
       "                                        &#x27;classifier__learning_rate&#x27;: &lt;scipy.stats._distn_infrastructure.rv_frozen object at 0x7f7d079fd040&gt;,\n",
       "                                        &#x27;classifier__max_bins&#x27;: &lt;__main__.loguniform_int object at 0x7f7d034f4760&gt;,\n",
       "                                        &#x27;classifier__max_leaf_nodes&#x27;: &lt;__main__.loguniform_int object at 0x7f7d034dff10&gt;,\n",
       "                                        &#x27;classifier__min_samples_leaf&#x27;: &lt;__main__.loguniform_int object at 0x7f7d034f8a30&gt;},\n",
       "                   verbose=1)</pre><b>Please rerun this cell to show the HTML repr or trust the notebook.</b></div><div class=\"sk-container\" hidden><div class=\"sk-item sk-dashed-wrapped\"><div class=\"sk-label-container\"><div class=\"sk-label sk-toggleable\"><input class=\"sk-toggleable__control sk-hidden--visually\" id=\"6336b40d-237f-4479-84f5-be7a47a978ba\" type=\"checkbox\" ><label for=\"6336b40d-237f-4479-84f5-be7a47a978ba\" class=\"sk-toggleable__label sk-toggleable__label-arrow\">RandomizedSearchCV</label><div class=\"sk-toggleable__content\"><pre>RandomizedSearchCV(cv=5,\n",
       "                   estimator=Pipeline(steps=[(&#x27;preprocessor&#x27;,\n",
       "                                              ColumnTransformer(remainder=&#x27;passthrough&#x27;,\n",
       "                                                                sparse_threshold=0,\n",
       "                                                                transformers=[(&#x27;cat_preprocessor&#x27;,\n",
       "                                                                               OrdinalEncoder(handle_unknown=&#x27;use_encoded_value&#x27;,\n",
       "                                                                                              unknown_value=-1),\n",
       "                                                                               [&#x27;workclass&#x27;,\n",
       "                                                                                &#x27;education&#x27;,\n",
       "                                                                                &#x27;marital-status&#x27;,\n",
       "                                                                                &#x27;occupation&#x27;,\n",
       "                                                                                &#x27;relationship&#x27;,\n",
       "                                                                                &#x27;race&#x27;,\n",
       "                                                                                &#x27;sex&#x27;,\n",
       "                                                                                &#x27;native-country&#x27;])])),\n",
       "                                             (&#x27;classifier&#x27;,\n",
       "                                              Hi...\n",
       "                   param_distributions={&#x27;classifier__l2_regularization&#x27;: &lt;scipy.stats._distn_infrastructure.rv_frozen object at 0x7f7d0431b400&gt;,\n",
       "                                        &#x27;classifier__learning_rate&#x27;: &lt;scipy.stats._distn_infrastructure.rv_frozen object at 0x7f7d079fd040&gt;,\n",
       "                                        &#x27;classifier__max_bins&#x27;: &lt;__main__.loguniform_int object at 0x7f7d034f4760&gt;,\n",
       "                                        &#x27;classifier__max_leaf_nodes&#x27;: &lt;__main__.loguniform_int object at 0x7f7d034dff10&gt;,\n",
       "                                        &#x27;classifier__min_samples_leaf&#x27;: &lt;__main__.loguniform_int object at 0x7f7d034f8a30&gt;},\n",
       "                   verbose=1)</pre></div></div></div><div class=\"sk-parallel\"><div class=\"sk-parallel-item\"><div class=\"sk-item\"><div class=\"sk-serial\"><div class=\"sk-item\"><div class=\"sk-serial\"><div class=\"sk-item sk-dashed-wrapped\"><div class=\"sk-label-container\"><div class=\"sk-label sk-toggleable\"><input class=\"sk-toggleable__control sk-hidden--visually\" id=\"524eff71-82e6-4a15-b8e0-12e8941e9d24\" type=\"checkbox\" ><label for=\"524eff71-82e6-4a15-b8e0-12e8941e9d24\" class=\"sk-toggleable__label sk-toggleable__label-arrow\">preprocessor: ColumnTransformer</label><div class=\"sk-toggleable__content\"><pre>ColumnTransformer(remainder=&#x27;passthrough&#x27;, sparse_threshold=0,\n",
       "                  transformers=[(&#x27;cat_preprocessor&#x27;,\n",
       "                                 OrdinalEncoder(handle_unknown=&#x27;use_encoded_value&#x27;,\n",
       "                                                unknown_value=-1),\n",
       "                                 [&#x27;workclass&#x27;, &#x27;education&#x27;, &#x27;marital-status&#x27;,\n",
       "                                  &#x27;occupation&#x27;, &#x27;relationship&#x27;, &#x27;race&#x27;, &#x27;sex&#x27;,\n",
       "                                  &#x27;native-country&#x27;])])</pre></div></div></div><div class=\"sk-parallel\"><div class=\"sk-parallel-item\"><div class=\"sk-item\"><div class=\"sk-label-container\"><div class=\"sk-label sk-toggleable\"><input class=\"sk-toggleable__control sk-hidden--visually\" id=\"549a9352-4b6c-4f43-91ad-704810b34982\" type=\"checkbox\" ><label for=\"549a9352-4b6c-4f43-91ad-704810b34982\" class=\"sk-toggleable__label sk-toggleable__label-arrow\">cat_preprocessor</label><div class=\"sk-toggleable__content\"><pre>[&#x27;workclass&#x27;, &#x27;education&#x27;, &#x27;marital-status&#x27;, &#x27;occupation&#x27;, &#x27;relationship&#x27;, &#x27;race&#x27;, &#x27;sex&#x27;, &#x27;native-country&#x27;]</pre></div></div></div><div class=\"sk-serial\"><div class=\"sk-item\"><div class=\"sk-estimator sk-toggleable\"><input class=\"sk-toggleable__control sk-hidden--visually\" id=\"e2652a11-2273-44e1-a985-28fcbfe66e0a\" type=\"checkbox\" ><label for=\"e2652a11-2273-44e1-a985-28fcbfe66e0a\" class=\"sk-toggleable__label sk-toggleable__label-arrow\">OrdinalEncoder</label><div class=\"sk-toggleable__content\"><pre>OrdinalEncoder(handle_unknown=&#x27;use_encoded_value&#x27;, unknown_value=-1)</pre></div></div></div></div></div></div><div class=\"sk-parallel-item\"><div class=\"sk-item\"><div class=\"sk-label-container\"><div class=\"sk-label sk-toggleable\"><input class=\"sk-toggleable__control sk-hidden--visually\" id=\"62603181-bd6d-40ca-a1f8-5da8ebddf3f5\" type=\"checkbox\" ><label for=\"62603181-bd6d-40ca-a1f8-5da8ebddf3f5\" class=\"sk-toggleable__label sk-toggleable__label-arrow\">remainder</label><div class=\"sk-toggleable__content\"><pre></pre></div></div></div><div class=\"sk-serial\"><div class=\"sk-item\"><div class=\"sk-estimator sk-toggleable\"><input class=\"sk-toggleable__control sk-hidden--visually\" id=\"12e0b3c9-8f63-4ea9-bc22-a95372b8f22c\" type=\"checkbox\" ><label for=\"12e0b3c9-8f63-4ea9-bc22-a95372b8f22c\" class=\"sk-toggleable__label sk-toggleable__label-arrow\">passthrough</label><div class=\"sk-toggleable__content\"><pre>passthrough</pre></div></div></div></div></div></div></div></div><div class=\"sk-item\"><div class=\"sk-estimator sk-toggleable\"><input class=\"sk-toggleable__control sk-hidden--visually\" id=\"5e4e1118-eb9e-4191-9ab9-6e04effacf93\" type=\"checkbox\" ><label for=\"5e4e1118-eb9e-4191-9ab9-6e04effacf93\" class=\"sk-toggleable__label sk-toggleable__label-arrow\">HistGradientBoostingClassifier</label><div class=\"sk-toggleable__content\"><pre>HistGradientBoostingClassifier(max_leaf_nodes=4, random_state=42)</pre></div></div></div></div></div></div></div></div></div></div></div></div>"
      ],
      "text/plain": [
       "RandomizedSearchCV(cv=5,\n",
       "                   estimator=Pipeline(steps=[('preprocessor',\n",
       "                                              ColumnTransformer(remainder='passthrough',\n",
       "                                                                sparse_threshold=0,\n",
       "                                                                transformers=[('cat_preprocessor',\n",
       "                                                                               OrdinalEncoder(handle_unknown='use_encoded_value',\n",
       "                                                                                              unknown_value=-1),\n",
       "                                                                               ['workclass',\n",
       "                                                                                'education',\n",
       "                                                                                'marital-status',\n",
       "                                                                                'occupation',\n",
       "                                                                                'relationship',\n",
       "                                                                                'race',\n",
       "                                                                                'sex',\n",
       "                                                                                'native-country'])])),\n",
       "                                             ('classifier',\n",
       "                                              Hi...\n",
       "                   param_distributions={'classifier__l2_regularization': <scipy.stats._distn_infrastructure.rv_frozen object at 0x7f7d0431b400>,\n",
       "                                        'classifier__learning_rate': <scipy.stats._distn_infrastructure.rv_frozen object at 0x7f7d079fd040>,\n",
       "                                        'classifier__max_bins': <__main__.loguniform_int object at 0x7f7d034f4760>,\n",
       "                                        'classifier__max_leaf_nodes': <__main__.loguniform_int object at 0x7f7d034dff10>,\n",
       "                                        'classifier__min_samples_leaf': <__main__.loguniform_int object at 0x7f7d034f8a30>},\n",
       "                   verbose=1)"
      ]
     },
     "execution_count": 9,
     "metadata": {},
     "output_type": "execute_result"
    }
   ],
   "source": [
    "%%time\n",
    "from sklearn.model_selection import RandomizedSearchCV\n",
    "\n",
    "param_distributions = {\n",
    "    'classifier__l2_regularization': loguniform(1e-6, 1e3),\n",
    "    'classifier__learning_rate': loguniform(0.001, 10),\n",
    "    'classifier__max_leaf_nodes': loguniform_int(2, 256),\n",
    "    'classifier__min_samples_leaf': loguniform_int(1, 100),\n",
    "    'classifier__max_bins': loguniform_int(2, 255),\n",
    "}\n",
    "\n",
    "model_random_search = RandomizedSearchCV(\n",
    "    model, param_distributions=param_distributions, n_iter=10,\n",
    "    cv=5, verbose=1,\n",
    ")\n",
    "model_random_search.fit(data_train, target_train)"
   ]
  },
  {
   "cell_type": "markdown",
   "id": "24c9b1d6",
   "metadata": {},
   "source": [
    "Then, we can compute the accuracy score on the test set."
   ]
  },
  {
   "cell_type": "code",
   "execution_count": 10,
   "id": "615feb9b",
   "metadata": {},
   "outputs": [
    {
     "name": "stdout",
     "output_type": "stream",
     "text": [
      "The test accuracy score of the best model is 0.84\n"
     ]
    }
   ],
   "source": [
    "accuracy = model_random_search.score(data_test, target_test)\n",
    "\n",
    "print(f\"The test accuracy score of the best model is \"\n",
    "      f\"{accuracy:.2f}\")"
   ]
  },
  {
   "cell_type": "code",
   "execution_count": 11,
   "id": "cf4e1baf",
   "metadata": {},
   "outputs": [
    {
     "name": "stdout",
     "output_type": "stream",
     "text": [
      "The best parameters are:\n",
      "{'classifier__l2_regularization': 2.8832619278718604e-06,\n",
      " 'classifier__learning_rate': 0.20287927956534996,\n",
      " 'classifier__max_bins': 26,\n",
      " 'classifier__max_leaf_nodes': 112,\n",
      " 'classifier__min_samples_leaf': 21}\n"
     ]
    }
   ],
   "source": [
    "from pprint import pprint\n",
    "\n",
    "print(\"The best parameters are:\")\n",
    "pprint(model_random_search.best_params_)"
   ]
  },
  {
   "cell_type": "markdown",
   "id": "bd512212",
   "metadata": {
    "lines_to_next_cell": 2
   },
   "source": [
    "\n",
    "We can inspect the results using the attributes `cv_results` as we did\n",
    "previously."
   ]
  },
  {
   "cell_type": "code",
   "execution_count": 12,
   "id": "731c0c45",
   "metadata": {},
   "outputs": [],
   "source": [
    "def shorten_param(param_name):\n",
    "    if \"__\" in param_name:\n",
    "        return param_name.rsplit(\"__\", 1)[1]\n",
    "    return param_name"
   ]
  },
  {
   "cell_type": "code",
   "execution_count": 13,
   "id": "8bde8620",
   "metadata": {},
   "outputs": [
    {
     "data": {
      "text/html": [
       "<div>\n",
       "<style scoped>\n",
       "    .dataframe tbody tr th:only-of-type {\n",
       "        vertical-align: middle;\n",
       "    }\n",
       "\n",
       "    .dataframe tbody tr th {\n",
       "        vertical-align: top;\n",
       "    }\n",
       "\n",
       "    .dataframe thead th {\n",
       "        text-align: right;\n",
       "    }\n",
       "</style>\n",
       "<table border=\"1\" class=\"dataframe\">\n",
       "  <thead>\n",
       "    <tr style=\"text-align: right;\">\n",
       "      <th></th>\n",
       "      <th>l2_regularization</th>\n",
       "      <th>learning_rate</th>\n",
       "      <th>max_leaf_nodes</th>\n",
       "      <th>min_samples_leaf</th>\n",
       "      <th>max_bins</th>\n",
       "      <th>mean_test_score</th>\n",
       "      <th>std_test_score</th>\n",
       "      <th>rank_test_score</th>\n",
       "    </tr>\n",
       "  </thead>\n",
       "  <tbody>\n",
       "    <tr>\n",
       "      <th>8</th>\n",
       "      <td>0.000003</td>\n",
       "      <td>0.202879</td>\n",
       "      <td>112</td>\n",
       "      <td>21</td>\n",
       "      <td>26</td>\n",
       "      <td>0.850154</td>\n",
       "      <td>0.001214</td>\n",
       "      <td>1</td>\n",
       "    </tr>\n",
       "    <tr>\n",
       "      <th>0</th>\n",
       "      <td>0.000011</td>\n",
       "      <td>1.387264</td>\n",
       "      <td>15</td>\n",
       "      <td>7</td>\n",
       "      <td>74</td>\n",
       "      <td>0.836150</td>\n",
       "      <td>0.004070</td>\n",
       "      <td>2</td>\n",
       "    </tr>\n",
       "    <tr>\n",
       "      <th>9</th>\n",
       "      <td>0.000061</td>\n",
       "      <td>0.031427</td>\n",
       "      <td>47</td>\n",
       "      <td>11</td>\n",
       "      <td>3</td>\n",
       "      <td>0.807540</td>\n",
       "      <td>0.001523</td>\n",
       "      <td>3</td>\n",
       "    </tr>\n",
       "    <tr>\n",
       "      <th>3</th>\n",
       "      <td>0.000054</td>\n",
       "      <td>0.00769</td>\n",
       "      <td>30</td>\n",
       "      <td>4</td>\n",
       "      <td>6</td>\n",
       "      <td>0.794273</td>\n",
       "      <td>0.001989</td>\n",
       "      <td>4</td>\n",
       "    </tr>\n",
       "    <tr>\n",
       "      <th>5</th>\n",
       "      <td>0.078943</td>\n",
       "      <td>2.626519</td>\n",
       "      <td>3</td>\n",
       "      <td>34</td>\n",
       "      <td>126</td>\n",
       "      <td>0.783025</td>\n",
       "      <td>0.015490</td>\n",
       "      <td>5</td>\n",
       "    </tr>\n",
       "    <tr>\n",
       "      <th>1</th>\n",
       "      <td>0.000001</td>\n",
       "      <td>0.003676</td>\n",
       "      <td>187</td>\n",
       "      <td>1</td>\n",
       "      <td>35</td>\n",
       "      <td>0.758947</td>\n",
       "      <td>0.000013</td>\n",
       "      <td>6</td>\n",
       "    </tr>\n",
       "    <tr>\n",
       "      <th>6</th>\n",
       "      <td>0.000651</td>\n",
       "      <td>0.003038</td>\n",
       "      <td>46</td>\n",
       "      <td>2</td>\n",
       "      <td>14</td>\n",
       "      <td>0.758947</td>\n",
       "      <td>0.000013</td>\n",
       "      <td>6</td>\n",
       "    </tr>\n",
       "    <tr>\n",
       "      <th>2</th>\n",
       "      <td>0.000001</td>\n",
       "      <td>3.745555</td>\n",
       "      <td>114</td>\n",
       "      <td>3</td>\n",
       "      <td>3</td>\n",
       "      <td>0.685624</td>\n",
       "      <td>0.064651</td>\n",
       "      <td>8</td>\n",
       "    </tr>\n",
       "    <tr>\n",
       "      <th>4</th>\n",
       "      <td>0.000034</td>\n",
       "      <td>5.773516</td>\n",
       "      <td>9</td>\n",
       "      <td>1</td>\n",
       "      <td>144</td>\n",
       "      <td>0.664352</td>\n",
       "      <td>0.149659</td>\n",
       "      <td>9</td>\n",
       "    </tr>\n",
       "    <tr>\n",
       "      <th>7</th>\n",
       "      <td>0.034455</td>\n",
       "      <td>4.691453</td>\n",
       "      <td>193</td>\n",
       "      <td>2</td>\n",
       "      <td>225</td>\n",
       "      <td>0.527695</td>\n",
       "      <td>0.133500</td>\n",
       "      <td>10</td>\n",
       "    </tr>\n",
       "  </tbody>\n",
       "</table>\n",
       "</div>"
      ],
      "text/plain": [
       "  l2_regularization learning_rate max_leaf_nodes min_samples_leaf max_bins  \\\n",
       "8          0.000003      0.202879            112               21       26   \n",
       "0          0.000011      1.387264             15                7       74   \n",
       "9          0.000061      0.031427             47               11        3   \n",
       "3          0.000054       0.00769             30                4        6   \n",
       "5          0.078943      2.626519              3               34      126   \n",
       "1          0.000001      0.003676            187                1       35   \n",
       "6          0.000651      0.003038             46                2       14   \n",
       "2          0.000001      3.745555            114                3        3   \n",
       "4          0.000034      5.773516              9                1      144   \n",
       "7          0.034455      4.691453            193                2      225   \n",
       "\n",
       "   mean_test_score  std_test_score  rank_test_score  \n",
       "8         0.850154        0.001214                1  \n",
       "0         0.836150        0.004070                2  \n",
       "9         0.807540        0.001523                3  \n",
       "3         0.794273        0.001989                4  \n",
       "5         0.783025        0.015490                5  \n",
       "1         0.758947        0.000013                6  \n",
       "6         0.758947        0.000013                6  \n",
       "2         0.685624        0.064651                8  \n",
       "4         0.664352        0.149659                9  \n",
       "7         0.527695        0.133500               10  "
      ]
     },
     "execution_count": 13,
     "metadata": {},
     "output_type": "execute_result"
    }
   ],
   "source": [
    "# get the parameter names\n",
    "column_results = [\n",
    "    f\"param_{name}\" for name in param_distributions.keys()]\n",
    "column_results += [\n",
    "    \"mean_test_score\", \"std_test_score\", \"rank_test_score\"]\n",
    "\n",
    "cv_results = pd.DataFrame(model_random_search.cv_results_)\n",
    "cv_results = cv_results[column_results].sort_values(\n",
    "    \"mean_test_score\", ascending=False)\n",
    "cv_results = cv_results.rename(shorten_param, axis=1)\n",
    "cv_results"
   ]
  },
  {
   "cell_type": "markdown",
   "id": "b11179a0",
   "metadata": {},
   "source": [
    "The best model that we found with this search seems to have a substantially better\n",
    "mean test score than the second to best model, as the difference of the mean test\n",
    "scores of both models differs by more than three times the standard deviation of the\n",
    "cross-validated test scores of the best model."
   ]
  },
  {
   "cell_type": "code",
   "execution_count": 14,
   "id": "40bf7788",
   "metadata": {},
   "outputs": [
    {
     "data": {
      "text/plain": [
       "0.014004511602437097"
      ]
     },
     "execution_count": 14,
     "metadata": {},
     "output_type": "execute_result"
    }
   ],
   "source": [
    "cv_results = cv_results.set_index(\"rank_test_score\")\n",
    "cv_results[\"mean_test_score\"][1] - cv_results[\"mean_test_score\"][2]"
   ]
  },
  {
   "cell_type": "code",
   "execution_count": 15,
   "id": "99a0e37e",
   "metadata": {},
   "outputs": [
    {
     "data": {
      "text/plain": [
       "0.0036416901964536163"
      ]
     },
     "execution_count": 15,
     "metadata": {},
     "output_type": "execute_result"
    }
   ],
   "source": [
    "3 * cv_results[\"std_test_score\"][1]"
   ]
  },
  {
   "cell_type": "markdown",
   "id": "71f44e04",
   "metadata": {},
   "source": [
    "Keep in mind that tuning is limited by the number of different combinations\n",
    "of parameters that are scored by the randomized search. In fact, there might\n",
    "be other sets of parameters leading to similar or better generalization\n",
    "performances but that were not tested in the search.\n",
    "In practice, a randomized hyperparameter search is usually run with a large\n",
    "number of iterations. In order to avoid the computation cost and still make a\n",
    "decent analysis, we load the results obtained from a similar search with 200\n",
    "iterations."
   ]
  },
  {
   "cell_type": "code",
   "execution_count": null,
   "id": "76602097",
   "metadata": {},
   "outputs": [],
   "source": [
    "model_random_search = RandomizedSearchCV(\n",
    "     model, param_distributions=param_distributions, n_iter=200,\n",
    "     n_jobs=2, cv=5)\n",
    "model_random_search.fit(data_train, target_train)\n",
    "cv_results =  pd.DataFrame(model_random_search.cv_results_)\n",
    "cv_results.to_csv(\"../figures/randomized_search_results.csv\")"
   ]
  },
  {
   "cell_type": "code",
   "execution_count": null,
   "id": "80121c27",
   "metadata": {},
   "outputs": [],
   "source": [
    "cv_results = pd.read_csv(\"../figures/randomized_search_results.csv\",\n",
    "                         index_col=0)\n",
    "\n",
    "(cv_results[column_results].rename(\n",
    "    shorten_param, axis=1).sort_values(\"mean_test_score\", ascending=False))"
   ]
  },
  {
   "cell_type": "markdown",
   "id": "64d4520e",
   "metadata": {},
   "source": [
    "In this case the top performing models have test scores with a high\n",
    "overlap between each other, meaning that indeed, the set of parameters\n",
    "leading to the best generalization performance is not unique."
   ]
  },
  {
   "cell_type": "markdown",
   "id": "0c0edfef",
   "metadata": {},
   "source": [
    "\n",
    "In this notebook, we saw how a randomized search offers a valuable\n",
    "alternative to grid-search when the number of hyperparameters to tune is more\n",
    "than two. It also alleviates the regularity imposed by the grid that might be\n",
    "problematic sometimes.\n",
    "\n",
    "In the following, we will see how to use interactive plotting tools to explore\n",
    "the results of large hyperparameter search sessions and gain some\n",
    "insights on range of parameter values that lead to the highest performing\n",
    "models and how different hyperparameter are coupled or not."
   ]
  }
 ],
 "metadata": {
  "jupytext": {
   "cell_metadata_filter": "-all",
   "main_language": "python",
   "notebook_metadata_filter": "-all"
  },
  "kernelspec": {
   "display_name": "Python 3 (ipykernel)",
   "language": "python",
   "name": "python3"
  },
  "language_info": {
   "codemirror_mode": {
    "name": "ipython",
    "version": 3
   },
   "file_extension": ".py",
   "mimetype": "text/x-python",
   "name": "python",
   "nbconvert_exporter": "python",
   "pygments_lexer": "ipython3",
   "version": "3.9.10"
  },
  "nbreset": "https://github.com/INRIA/scikit-learn-mooc/raw/main/notebooks/parameter_tuning_randomized_search.ipynb"
 },
 "nbformat": 4,
 "nbformat_minor": 5
}
